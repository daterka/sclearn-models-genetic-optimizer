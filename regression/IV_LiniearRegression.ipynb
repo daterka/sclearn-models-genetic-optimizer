{
 "cells": [
  {
   "cell_type": "markdown",
   "metadata": {},
   "source": [
    "# IV Regresja Liniowa"
   ]
  },
  {
   "cell_type": "markdown",
   "metadata": {},
   "source": [
    "Zaprojektowanie modelu regresji liniowej, który posłuży predykcji temperatur na podstawie wyselekcjonowanych danych."
   ]
  },
  {
   "cell_type": "code",
   "execution_count": 1,
   "metadata": {},
   "outputs": [],
   "source": [
    "# data manipulation tools\n",
    "import pandas as pd\n",
    "import numpy as np\n",
    "\n",
    "# Random Forest model\n",
    "from sklearn.ensemble import RandomForestRegressor\n",
    "\n",
    "# Linear Regression model\n",
    "from sklearn.linear_model import LinearRegression\n",
    "\n",
    "# Epsilon-Support Vector Regression\n",
    "from sklearn import svm \n",
    "\n",
    "# model selection\n",
    "from sklearn.model_selection import cross_val_score # perform cross-validation for estimator evaluation\n",
    "from sklearn.model_selection import cross_val_predict # generate cross-validated estimates for each input\n",
    "from sklearn.model_selection import train_test_split # splits arrays/matrices into random train and test subsets\n",
    "from sklearn.model_selection import GridSearchCV # determines estimator paremeters values\n",
    "from sklearn.model_selection import StratifiedKFold # stratified k-fold cross-validator\n",
    "from sklearn.model_selection import KFold # k-fold cross-validator\n",
    "\n",
    "# model evaluation\n",
    "from sklearn.metrics import mean_absolute_error, median_absolute_error\n",
    "\n",
    "# feature selection based on weights importance\n",
    "from sklearn.feature_selection import SelectFromModel\n",
    "\n",
    "# data preprocessing\n",
    "from sklearn.preprocessing import MinMaxScaler\n",
    "\n",
    "# plots\n",
    "import matplotlib.pyplot as plt\n",
    "import seaborn as sns\n",
    "\n",
    "# rest\n",
    "import random\n"
   ]
  },
  {
   "cell_type": "markdown",
   "metadata": {},
   "source": [
    "Wczytanie danych."
   ]
  },
  {
   "cell_type": "code",
   "execution_count": 2,
   "metadata": {},
   "outputs": [],
   "source": [
    "%store -r predictors_x\n",
    "%store -r outcomes_y"
   ]
  },
  {
   "cell_type": "code",
   "execution_count": 3,
   "metadata": {},
   "outputs": [
    {
     "data": {
      "text/html": [
       "<div>\n",
       "<style scoped>\n",
       "    .dataframe tbody tr th:only-of-type {\n",
       "        vertical-align: middle;\n",
       "    }\n",
       "\n",
       "    .dataframe tbody tr th {\n",
       "        vertical-align: top;\n",
       "    }\n",
       "\n",
       "    .dataframe thead th {\n",
       "        text-align: right;\n",
       "    }\n",
       "</style>\n",
       "<table border=\"1\" class=\"dataframe\">\n",
       "  <thead>\n",
       "    <tr style=\"text-align: right;\">\n",
       "      <th></th>\n",
       "      <th>landAvg_1_PriorYear</th>\n",
       "      <th>landAvg_2_PriorYear</th>\n",
       "      <th>landAvg_3_PriorYear</th>\n",
       "      <th>landAvg_4_PriorYear</th>\n",
       "      <th>landMax_2_PriorYear</th>\n",
       "      <th>landMax_5_PriorYear</th>\n",
       "      <th>landMin_4_PriorYear</th>\n",
       "      <th>land&amp;OceanAvg_1_PriorYear</th>\n",
       "      <th>land&amp;OceanAvg_2_PriorYear</th>\n",
       "      <th>oceanAvg_1_PriorYear</th>\n",
       "      <th>oceanAvg_2_PriorYear</th>\n",
       "      <th>oceanAvg_5_PriorYear</th>\n",
       "    </tr>\n",
       "    <tr>\n",
       "      <th>date</th>\n",
       "      <th></th>\n",
       "      <th></th>\n",
       "      <th></th>\n",
       "      <th></th>\n",
       "      <th></th>\n",
       "      <th></th>\n",
       "      <th></th>\n",
       "      <th></th>\n",
       "      <th></th>\n",
       "      <th></th>\n",
       "      <th></th>\n",
       "      <th></th>\n",
       "    </tr>\n",
       "  </thead>\n",
       "  <tbody>\n",
       "    <tr>\n",
       "      <th>1850-01-01</th>\n",
       "      <td>-1.344498</td>\n",
       "      <td>-1.343748</td>\n",
       "      <td>-1.342076</td>\n",
       "      <td>-1.341202</td>\n",
       "      <td>-1.404913</td>\n",
       "      <td>-1.403688</td>\n",
       "      <td>-1.277205</td>\n",
       "      <td>-1.177569</td>\n",
       "      <td>-1.176354</td>\n",
       "      <td>1.528022</td>\n",
       "      <td>1.528980</td>\n",
       "      <td>1.529537</td>\n",
       "    </tr>\n",
       "    <tr>\n",
       "      <th>1851-01-01</th>\n",
       "      <td>-1.344498</td>\n",
       "      <td>-1.343748</td>\n",
       "      <td>-1.342076</td>\n",
       "      <td>-1.341202</td>\n",
       "      <td>-1.404913</td>\n",
       "      <td>-1.403688</td>\n",
       "      <td>-1.277205</td>\n",
       "      <td>-1.177569</td>\n",
       "      <td>-1.176354</td>\n",
       "      <td>1.528022</td>\n",
       "      <td>1.528980</td>\n",
       "      <td>1.529537</td>\n",
       "    </tr>\n",
       "    <tr>\n",
       "      <th>1852-01-01</th>\n",
       "      <td>-1.439527</td>\n",
       "      <td>-1.343748</td>\n",
       "      <td>-1.342076</td>\n",
       "      <td>-1.341202</td>\n",
       "      <td>-1.404913</td>\n",
       "      <td>-1.403688</td>\n",
       "      <td>-1.277205</td>\n",
       "      <td>-1.543883</td>\n",
       "      <td>-1.176354</td>\n",
       "      <td>1.233484</td>\n",
       "      <td>1.528980</td>\n",
       "      <td>1.529537</td>\n",
       "    </tr>\n",
       "    <tr>\n",
       "      <th>1853-01-01</th>\n",
       "      <td>-1.452432</td>\n",
       "      <td>-1.438803</td>\n",
       "      <td>-1.342076</td>\n",
       "      <td>-1.341202</td>\n",
       "      <td>-1.250940</td>\n",
       "      <td>-1.403688</td>\n",
       "      <td>-1.277205</td>\n",
       "      <td>-1.554889</td>\n",
       "      <td>-1.543128</td>\n",
       "      <td>1.248574</td>\n",
       "      <td>1.234485</td>\n",
       "      <td>1.529537</td>\n",
       "    </tr>\n",
       "    <tr>\n",
       "      <th>1854-01-01</th>\n",
       "      <td>-1.590870</td>\n",
       "      <td>-1.451711</td>\n",
       "      <td>-1.437103</td>\n",
       "      <td>-1.341202</td>\n",
       "      <td>-1.361717</td>\n",
       "      <td>-1.403688</td>\n",
       "      <td>-1.277205</td>\n",
       "      <td>-1.624064</td>\n",
       "      <td>-1.554147</td>\n",
       "      <td>1.479957</td>\n",
       "      <td>1.249573</td>\n",
       "      <td>1.529537</td>\n",
       "    </tr>\n",
       "  </tbody>\n",
       "</table>\n",
       "</div>"
      ],
      "text/plain": [
       "            landAvg_1_PriorYear  landAvg_2_PriorYear  landAvg_3_PriorYear  \\\n",
       "date                                                                        \n",
       "1850-01-01            -1.344498            -1.343748            -1.342076   \n",
       "1851-01-01            -1.344498            -1.343748            -1.342076   \n",
       "1852-01-01            -1.439527            -1.343748            -1.342076   \n",
       "1853-01-01            -1.452432            -1.438803            -1.342076   \n",
       "1854-01-01            -1.590870            -1.451711            -1.437103   \n",
       "\n",
       "            landAvg_4_PriorYear  landMax_2_PriorYear  landMax_5_PriorYear  \\\n",
       "date                                                                        \n",
       "1850-01-01            -1.341202            -1.404913            -1.403688   \n",
       "1851-01-01            -1.341202            -1.404913            -1.403688   \n",
       "1852-01-01            -1.341202            -1.404913            -1.403688   \n",
       "1853-01-01            -1.341202            -1.250940            -1.403688   \n",
       "1854-01-01            -1.341202            -1.361717            -1.403688   \n",
       "\n",
       "            landMin_4_PriorYear  land&OceanAvg_1_PriorYear  \\\n",
       "date                                                         \n",
       "1850-01-01            -1.277205                  -1.177569   \n",
       "1851-01-01            -1.277205                  -1.177569   \n",
       "1852-01-01            -1.277205                  -1.543883   \n",
       "1853-01-01            -1.277205                  -1.554889   \n",
       "1854-01-01            -1.277205                  -1.624064   \n",
       "\n",
       "            land&OceanAvg_2_PriorYear  oceanAvg_1_PriorYear  \\\n",
       "date                                                          \n",
       "1850-01-01                  -1.176354              1.528022   \n",
       "1851-01-01                  -1.176354              1.528022   \n",
       "1852-01-01                  -1.176354              1.233484   \n",
       "1853-01-01                  -1.543128              1.248574   \n",
       "1854-01-01                  -1.554147              1.479957   \n",
       "\n",
       "            oceanAvg_2_PriorYear  oceanAvg_5_PriorYear  \n",
       "date                                                    \n",
       "1850-01-01              1.528980              1.529537  \n",
       "1851-01-01              1.528980              1.529537  \n",
       "1852-01-01              1.528980              1.529537  \n",
       "1853-01-01              1.234485              1.529537  \n",
       "1854-01-01              1.249573              1.529537  "
      ]
     },
     "execution_count": 3,
     "metadata": {},
     "output_type": "execute_result"
    }
   ],
   "source": [
    "predictors_x.head()"
   ]
  },
  {
   "cell_type": "code",
   "execution_count": 4,
   "metadata": {},
   "outputs": [
    {
     "data": {
      "text/html": [
       "<div>\n",
       "<style scoped>\n",
       "    .dataframe tbody tr th:only-of-type {\n",
       "        vertical-align: middle;\n",
       "    }\n",
       "\n",
       "    .dataframe tbody tr th {\n",
       "        vertical-align: top;\n",
       "    }\n",
       "\n",
       "    .dataframe thead th {\n",
       "        text-align: right;\n",
       "    }\n",
       "</style>\n",
       "<table border=\"1\" class=\"dataframe\">\n",
       "  <thead>\n",
       "    <tr style=\"text-align: right;\">\n",
       "      <th></th>\n",
       "      <th>landAvg</th>\n",
       "    </tr>\n",
       "    <tr>\n",
       "      <th>date</th>\n",
       "      <th></th>\n",
       "    </tr>\n",
       "  </thead>\n",
       "  <tbody>\n",
       "    <tr>\n",
       "      <th>1850-01-01</th>\n",
       "      <td>-1.834912</td>\n",
       "    </tr>\n",
       "    <tr>\n",
       "      <th>1851-01-01</th>\n",
       "      <td>-1.440372</td>\n",
       "    </tr>\n",
       "    <tr>\n",
       "      <th>1852-01-01</th>\n",
       "      <td>-1.453273</td>\n",
       "    </tr>\n",
       "    <tr>\n",
       "      <th>1853-01-01</th>\n",
       "      <td>-1.591667</td>\n",
       "    </tr>\n",
       "    <tr>\n",
       "      <th>1854-01-01</th>\n",
       "      <td>-1.710123</td>\n",
       "    </tr>\n",
       "  </tbody>\n",
       "</table>\n",
       "</div>"
      ],
      "text/plain": [
       "             landAvg\n",
       "date                \n",
       "1850-01-01 -1.834912\n",
       "1851-01-01 -1.440372\n",
       "1852-01-01 -1.453273\n",
       "1853-01-01 -1.591667\n",
       "1854-01-01 -1.710123"
      ]
     },
     "execution_count": 4,
     "metadata": {},
     "output_type": "execute_result"
    }
   ],
   "source": [
    "outcomes_y.head()"
   ]
  },
  {
   "cell_type": "markdown",
   "metadata": {},
   "source": [
    "Wydzielenie zbiorów treningowego (x, y) oraz testowego (x_test, y_test):"
   ]
  },
  {
   "cell_type": "code",
   "execution_count": 5,
   "metadata": {},
   "outputs": [],
   "source": [
    "x_train, x_test, y_train, y_test = train_test_split(predictors_x, outcomes_y, test_size=0.1, random_state=0)"
   ]
  },
  {
   "cell_type": "code",
   "execution_count": 6,
   "metadata": {},
   "outputs": [
    {
     "data": {
      "text/plain": [
       "((1792, 12), (1792, 1))"
      ]
     },
     "execution_count": 6,
     "metadata": {},
     "output_type": "execute_result"
    }
   ],
   "source": [
    "x_train.shape, y_train.shape"
   ]
  },
  {
   "cell_type": "code",
   "execution_count": 7,
   "metadata": {},
   "outputs": [
    {
     "data": {
      "text/plain": [
       "((200, 12), (200, 1))"
      ]
     },
     "execution_count": 7,
     "metadata": {},
     "output_type": "execute_result"
    }
   ],
   "source": [
    "x_test.shape, y_test.shape"
   ]
  },
  {
   "cell_type": "markdown",
   "metadata": {},
   "source": [
    "x_train.head()"
   ]
  },
  {
   "cell_type": "code",
   "execution_count": 8,
   "metadata": {},
   "outputs": [
    {
     "data": {
      "text/html": [
       "<div>\n",
       "<style scoped>\n",
       "    .dataframe tbody tr th:only-of-type {\n",
       "        vertical-align: middle;\n",
       "    }\n",
       "\n",
       "    .dataframe tbody tr th {\n",
       "        vertical-align: top;\n",
       "    }\n",
       "\n",
       "    .dataframe thead th {\n",
       "        text-align: right;\n",
       "    }\n",
       "</style>\n",
       "<table border=\"1\" class=\"dataframe\">\n",
       "  <thead>\n",
       "    <tr style=\"text-align: right;\">\n",
       "      <th></th>\n",
       "      <th>landAvg</th>\n",
       "    </tr>\n",
       "    <tr>\n",
       "      <th>date</th>\n",
       "      <th></th>\n",
       "    </tr>\n",
       "  </thead>\n",
       "  <tbody>\n",
       "    <tr>\n",
       "      <th>1891-08-01</th>\n",
       "      <td>1.155101</td>\n",
       "    </tr>\n",
       "    <tr>\n",
       "      <th>1854-09-01</th>\n",
       "      <td>0.690191</td>\n",
       "    </tr>\n",
       "    <tr>\n",
       "      <th>1870-04-01</th>\n",
       "      <td>-0.162456</td>\n",
       "    </tr>\n",
       "    <tr>\n",
       "      <th>1939-04-01</th>\n",
       "      <td>-0.057136</td>\n",
       "    </tr>\n",
       "    <tr>\n",
       "      <th>1917-03-01</th>\n",
       "      <td>-0.957870</td>\n",
       "    </tr>\n",
       "  </tbody>\n",
       "</table>\n",
       "</div>"
      ],
      "text/plain": [
       "             landAvg\n",
       "date                \n",
       "1891-08-01  1.155101\n",
       "1854-09-01  0.690191\n",
       "1870-04-01 -0.162456\n",
       "1939-04-01 -0.057136\n",
       "1917-03-01 -0.957870"
      ]
     },
     "execution_count": 8,
     "metadata": {},
     "output_type": "execute_result"
    }
   ],
   "source": [
    "y_train.head()"
   ]
  },
  {
   "cell_type": "markdown",
   "metadata": {},
   "source": [
    "### I Modele Regresji Liniowej"
   ]
  },
  {
   "cell_type": "markdown",
   "metadata": {},
   "source": [
    "#### RandomForest"
   ]
  },
  {
   "cell_type": "markdown",
   "metadata": {},
   "source": [
    "Zbudowanie oraz optymalizacja parametrów modelu."
   ]
  },
  {
   "cell_type": "code",
   "execution_count": 9,
   "metadata": {},
   "outputs": [
    {
     "name": "stdout",
     "output_type": "stream",
     "text": [
      "Fitting 10 folds for each of 32 candidates, totalling 320 fits\n"
     ]
    },
    {
     "name": "stderr",
     "output_type": "stream",
     "text": [
      "[Parallel(n_jobs=-1)]: Using backend LokyBackend with 12 concurrent workers.\n",
      "[Parallel(n_jobs=-1)]: Done  26 tasks      | elapsed:    1.9s\n",
      "[Parallel(n_jobs=-1)]: Done 176 tasks      | elapsed:   27.3s\n",
      "[Parallel(n_jobs=-1)]: Done 320 out of 320 | elapsed:  1.3min finished\n"
     ]
    }
   ],
   "source": [
    "# Perform Grid-Search to find hyperparameters for regression estimator\n",
    "# max_depth refers to tree depth\n",
    "# n_estimators refers to number of threes in forest\n",
    "# cv parameter determines number of folds of providet dataset or cross-validator object\n",
    "gsc_rfr = GridSearchCV(estimator=RandomForestRegressor(), \n",
    "                   param_grid={'max_depth': range(2, 10), 'n_estimators': (10, 50, 100, 1000), },\n",
    "                   cv=KFold(n_splits=10, shuffle=True, random_state=None), scoring='neg_mean_squared_error', \n",
    "                   verbose=1, n_jobs=-1, refit=True, return_train_score=True)\n",
    "\n",
    "# fitting GridSearchCV instance with data to determine best parameters\n",
    "grid_result = gsc_rfr.fit(x_train.values, y_train.values.ravel())\n",
    "best_params = grid_result.best_params_"
   ]
  },
  {
   "cell_type": "code",
   "execution_count": 10,
   "metadata": {},
   "outputs": [
    {
     "data": {
      "text/html": [
       "<div>\n",
       "<style scoped>\n",
       "    .dataframe tbody tr th:only-of-type {\n",
       "        vertical-align: middle;\n",
       "    }\n",
       "\n",
       "    .dataframe tbody tr th {\n",
       "        vertical-align: top;\n",
       "    }\n",
       "\n",
       "    .dataframe thead th {\n",
       "        text-align: right;\n",
       "    }\n",
       "</style>\n",
       "<table border=\"1\" class=\"dataframe\">\n",
       "  <thead>\n",
       "    <tr style=\"text-align: right;\">\n",
       "      <th></th>\n",
       "      <th>mean_fit_time</th>\n",
       "      <th>std_fit_time</th>\n",
       "      <th>mean_score_time</th>\n",
       "      <th>std_score_time</th>\n",
       "      <th>param_max_depth</th>\n",
       "      <th>param_n_estimators</th>\n",
       "      <th>params</th>\n",
       "      <th>split0_test_score</th>\n",
       "      <th>split1_test_score</th>\n",
       "      <th>split2_test_score</th>\n",
       "      <th>...</th>\n",
       "      <th>split2_train_score</th>\n",
       "      <th>split3_train_score</th>\n",
       "      <th>split4_train_score</th>\n",
       "      <th>split5_train_score</th>\n",
       "      <th>split6_train_score</th>\n",
       "      <th>split7_train_score</th>\n",
       "      <th>split8_train_score</th>\n",
       "      <th>split9_train_score</th>\n",
       "      <th>mean_train_score</th>\n",
       "      <th>std_train_score</th>\n",
       "    </tr>\n",
       "  </thead>\n",
       "  <tbody>\n",
       "    <tr>\n",
       "      <th>0</th>\n",
       "      <td>0.062912</td>\n",
       "      <td>0.017226</td>\n",
       "      <td>0.001017</td>\n",
       "      <td>0.002445</td>\n",
       "      <td>2</td>\n",
       "      <td>10</td>\n",
       "      <td>{'max_depth': 2, 'n_estimators': 10}</td>\n",
       "      <td>-0.057336</td>\n",
       "      <td>-0.046008</td>\n",
       "      <td>-0.043732</td>\n",
       "      <td>...</td>\n",
       "      <td>-0.042232</td>\n",
       "      <td>-0.035033</td>\n",
       "      <td>-0.043121</td>\n",
       "      <td>-0.039728</td>\n",
       "      <td>-0.044878</td>\n",
       "      <td>-0.042448</td>\n",
       "      <td>-0.047042</td>\n",
       "      <td>-0.040472</td>\n",
       "      <td>-0.042582</td>\n",
       "      <td>0.003349</td>\n",
       "    </tr>\n",
       "    <tr>\n",
       "      <th>1</th>\n",
       "      <td>0.237177</td>\n",
       "      <td>0.026947</td>\n",
       "      <td>0.005882</td>\n",
       "      <td>0.004287</td>\n",
       "      <td>2</td>\n",
       "      <td>50</td>\n",
       "      <td>{'max_depth': 2, 'n_estimators': 50}</td>\n",
       "      <td>-0.050826</td>\n",
       "      <td>-0.036896</td>\n",
       "      <td>-0.040195</td>\n",
       "      <td>...</td>\n",
       "      <td>-0.038491</td>\n",
       "      <td>-0.037213</td>\n",
       "      <td>-0.037377</td>\n",
       "      <td>-0.038151</td>\n",
       "      <td>-0.038876</td>\n",
       "      <td>-0.038689</td>\n",
       "      <td>-0.041961</td>\n",
       "      <td>-0.037877</td>\n",
       "      <td>-0.038741</td>\n",
       "      <td>0.001372</td>\n",
       "    </tr>\n",
       "    <tr>\n",
       "      <th>2</th>\n",
       "      <td>0.474879</td>\n",
       "      <td>0.070430</td>\n",
       "      <td>0.010355</td>\n",
       "      <td>0.000618</td>\n",
       "      <td>2</td>\n",
       "      <td>100</td>\n",
       "      <td>{'max_depth': 2, 'n_estimators': 100}</td>\n",
       "      <td>-0.052682</td>\n",
       "      <td>-0.038006</td>\n",
       "      <td>-0.040778</td>\n",
       "      <td>...</td>\n",
       "      <td>-0.038751</td>\n",
       "      <td>-0.033891</td>\n",
       "      <td>-0.035909</td>\n",
       "      <td>-0.037585</td>\n",
       "      <td>-0.037755</td>\n",
       "      <td>-0.038037</td>\n",
       "      <td>-0.043809</td>\n",
       "      <td>-0.037277</td>\n",
       "      <td>-0.038201</td>\n",
       "      <td>0.002498</td>\n",
       "    </tr>\n",
       "    <tr>\n",
       "      <th>3</th>\n",
       "      <td>4.916981</td>\n",
       "      <td>0.703325</td>\n",
       "      <td>0.107233</td>\n",
       "      <td>0.025317</td>\n",
       "      <td>2</td>\n",
       "      <td>1000</td>\n",
       "      <td>{'max_depth': 2, 'n_estimators': 1000}</td>\n",
       "      <td>-0.051241</td>\n",
       "      <td>-0.038659</td>\n",
       "      <td>-0.040495</td>\n",
       "      <td>...</td>\n",
       "      <td>-0.038612</td>\n",
       "      <td>-0.036424</td>\n",
       "      <td>-0.037922</td>\n",
       "      <td>-0.037766</td>\n",
       "      <td>-0.038046</td>\n",
       "      <td>-0.037174</td>\n",
       "      <td>-0.042240</td>\n",
       "      <td>-0.037039</td>\n",
       "      <td>-0.038455</td>\n",
       "      <td>0.001614</td>\n",
       "    </tr>\n",
       "    <tr>\n",
       "      <th>4</th>\n",
       "      <td>0.067828</td>\n",
       "      <td>0.015819</td>\n",
       "      <td>0.002232</td>\n",
       "      <td>0.003558</td>\n",
       "      <td>3</td>\n",
       "      <td>10</td>\n",
       "      <td>{'max_depth': 3, 'n_estimators': 10}</td>\n",
       "      <td>-0.023530</td>\n",
       "      <td>-0.013119</td>\n",
       "      <td>-0.018516</td>\n",
       "      <td>...</td>\n",
       "      <td>-0.016039</td>\n",
       "      <td>-0.015395</td>\n",
       "      <td>-0.015394</td>\n",
       "      <td>-0.015614</td>\n",
       "      <td>-0.014898</td>\n",
       "      <td>-0.015637</td>\n",
       "      <td>-0.016276</td>\n",
       "      <td>-0.014522</td>\n",
       "      <td>-0.015379</td>\n",
       "      <td>0.000525</td>\n",
       "    </tr>\n",
       "  </tbody>\n",
       "</table>\n",
       "<p>5 rows × 32 columns</p>\n",
       "</div>"
      ],
      "text/plain": [
       "   mean_fit_time  std_fit_time  mean_score_time  std_score_time  \\\n",
       "0       0.062912      0.017226         0.001017        0.002445   \n",
       "1       0.237177      0.026947         0.005882        0.004287   \n",
       "2       0.474879      0.070430         0.010355        0.000618   \n",
       "3       4.916981      0.703325         0.107233        0.025317   \n",
       "4       0.067828      0.015819         0.002232        0.003558   \n",
       "\n",
       "  param_max_depth param_n_estimators                                  params  \\\n",
       "0               2                 10    {'max_depth': 2, 'n_estimators': 10}   \n",
       "1               2                 50    {'max_depth': 2, 'n_estimators': 50}   \n",
       "2               2                100   {'max_depth': 2, 'n_estimators': 100}   \n",
       "3               2               1000  {'max_depth': 2, 'n_estimators': 1000}   \n",
       "4               3                 10    {'max_depth': 3, 'n_estimators': 10}   \n",
       "\n",
       "   split0_test_score  split1_test_score  split2_test_score  ...  \\\n",
       "0          -0.057336          -0.046008          -0.043732  ...   \n",
       "1          -0.050826          -0.036896          -0.040195  ...   \n",
       "2          -0.052682          -0.038006          -0.040778  ...   \n",
       "3          -0.051241          -0.038659          -0.040495  ...   \n",
       "4          -0.023530          -0.013119          -0.018516  ...   \n",
       "\n",
       "   split2_train_score  split3_train_score  split4_train_score  \\\n",
       "0           -0.042232           -0.035033           -0.043121   \n",
       "1           -0.038491           -0.037213           -0.037377   \n",
       "2           -0.038751           -0.033891           -0.035909   \n",
       "3           -0.038612           -0.036424           -0.037922   \n",
       "4           -0.016039           -0.015395           -0.015394   \n",
       "\n",
       "   split5_train_score  split6_train_score  split7_train_score  \\\n",
       "0           -0.039728           -0.044878           -0.042448   \n",
       "1           -0.038151           -0.038876           -0.038689   \n",
       "2           -0.037585           -0.037755           -0.038037   \n",
       "3           -0.037766           -0.038046           -0.037174   \n",
       "4           -0.015614           -0.014898           -0.015637   \n",
       "\n",
       "   split8_train_score  split9_train_score  mean_train_score  std_train_score  \n",
       "0           -0.047042           -0.040472         -0.042582         0.003349  \n",
       "1           -0.041961           -0.037877         -0.038741         0.001372  \n",
       "2           -0.043809           -0.037277         -0.038201         0.002498  \n",
       "3           -0.042240           -0.037039         -0.038455         0.001614  \n",
       "4           -0.016276           -0.014522         -0.015379         0.000525  \n",
       "\n",
       "[5 rows x 32 columns]"
      ]
     },
     "execution_count": 10,
     "metadata": {},
     "output_type": "execute_result"
    }
   ],
   "source": [
    "# GridSearchCV trainig raport \n",
    "pd.DataFrame(data=gsc_rfr.cv_results_).head()"
   ]
  },
  {
   "cell_type": "code",
   "execution_count": 11,
   "metadata": {},
   "outputs": [
    {
     "data": {
      "text/plain": [
       "{'max_depth': 7, 'n_estimators': 1000}"
      ]
     },
     "execution_count": 11,
     "metadata": {},
     "output_type": "execute_result"
    }
   ],
   "source": [
    "# best parameters privided by GridSearchCV\n",
    "best_params"
   ]
  },
  {
   "cell_type": "code",
   "execution_count": 12,
   "metadata": {},
   "outputs": [],
   "source": [
    "# Random Forest Regressor estimator\n",
    "rfr_estimator = RandomForestRegressor(max_depth=best_params[\"max_depth\"], n_estimators=best_params[\"n_estimators\"], \n",
    "                            random_state=False, verbose=0)"
   ]
  },
  {
   "cell_type": "code",
   "execution_count": 13,
   "metadata": {},
   "outputs": [
    {
     "data": {
      "text/plain": [
       "RandomForestRegressor(max_depth=7, n_estimators=1000, random_state=False)"
      ]
     },
     "execution_count": 13,
     "metadata": {},
     "output_type": "execute_result"
    }
   ],
   "source": [
    "# fitting randomforest model\n",
    "rfr_estimator.fit(x_train.values, y_train.values.ravel())"
   ]
  },
  {
   "cell_type": "markdown",
   "metadata": {},
   "source": [
    "**EWALUACJA**  \n",
    "Evaluacja modelu na wcześniej wydzielonych danych testowych:"
   ]
  },
  {
   "cell_type": "markdown",
   "metadata": {},
   "source": [
    "Model Predictions:"
   ]
  },
  {
   "cell_type": "code",
   "execution_count": 14,
   "metadata": {},
   "outputs": [
    {
     "data": {
      "text/html": [
       "<div>\n",
       "<style scoped>\n",
       "    .dataframe tbody tr th:only-of-type {\n",
       "        vertical-align: middle;\n",
       "    }\n",
       "\n",
       "    .dataframe tbody tr th {\n",
       "        vertical-align: top;\n",
       "    }\n",
       "\n",
       "    .dataframe thead th {\n",
       "        text-align: right;\n",
       "    }\n",
       "</style>\n",
       "<table border=\"1\" class=\"dataframe\">\n",
       "  <thead>\n",
       "    <tr style=\"text-align: right;\">\n",
       "      <th></th>\n",
       "      <th>landAvg</th>\n",
       "      <th>rfr_predictions</th>\n",
       "    </tr>\n",
       "    <tr>\n",
       "      <th>date</th>\n",
       "      <th></th>\n",
       "      <th></th>\n",
       "    </tr>\n",
       "  </thead>\n",
       "  <tbody>\n",
       "    <tr>\n",
       "      <th>1994-11-01</th>\n",
       "      <td>-0.418368</td>\n",
       "      <td>-0.606532</td>\n",
       "    </tr>\n",
       "    <tr>\n",
       "      <th>1999-08-01</th>\n",
       "      <td>1.354951</td>\n",
       "      <td>1.424944</td>\n",
       "    </tr>\n",
       "    <tr>\n",
       "      <th>1980-06-01</th>\n",
       "      <td>1.175273</td>\n",
       "      <td>1.124208</td>\n",
       "    </tr>\n",
       "    <tr>\n",
       "      <th>1957-01-01</th>\n",
       "      <td>-1.427002</td>\n",
       "      <td>-1.356155</td>\n",
       "    </tr>\n",
       "    <tr>\n",
       "      <th>1913-10-01</th>\n",
       "      <td>0.118554</td>\n",
       "      <td>0.122459</td>\n",
       "    </tr>\n",
       "  </tbody>\n",
       "</table>\n",
       "</div>"
      ],
      "text/plain": [
       "             landAvg  rfr_predictions\n",
       "date                                 \n",
       "1994-11-01 -0.418368        -0.606532\n",
       "1999-08-01  1.354951         1.424944\n",
       "1980-06-01  1.175273         1.124208\n",
       "1957-01-01 -1.427002        -1.356155\n",
       "1913-10-01  0.118554         0.122459"
      ]
     },
     "execution_count": 14,
     "metadata": {},
     "output_type": "execute_result"
    }
   ],
   "source": [
    "outcomes = pd.DataFrame.copy(y_test)\n",
    "outcomes[\"rfr_predictions\"] = rfr_estimator.predict(x_test.values)\n",
    "outcomes.head()"
   ]
  },
  {
   "cell_type": "code",
   "execution_count": 15,
   "metadata": {},
   "outputs": [
    {
     "name": "stdout",
     "output_type": "stream",
     "text": [
      "The Explained Variance: 0.99\n",
      "The Mean Absolute Error: 0.08 degrees celsius\n",
      "The Median Absolute Error: 0.06 degrees celsius\n"
     ]
    }
   ],
   "source": [
    "print(\"The Explained Variance: %.2f\" % rfr_estimator.score(x_test.values, y_test.values.ravel()))\n",
    "print(\"The Mean Absolute Error: %.2f degrees celsius\" % mean_absolute_error(y_test, outcomes['rfr_predictions']))\n",
    "print(\"The Median Absolute Error: %.2f degrees celsius\" % median_absolute_error(y_test, outcomes['rfr_predictions']))"
   ]
  },
  {
   "cell_type": "markdown",
   "metadata": {},
   "source": [
    "Wykres obrazujący uzyskane wyniki."
   ]
  },
  {
   "cell_type": "code",
   "execution_count": 16,
   "metadata": {},
   "outputs": [
    {
     "data": {
      "image/png": "[encoded data removed]",
      "text/plain": [
       "<Figure size 1296x576 with 1 Axes>"
      ]
     },
     "metadata": {
      "needs_background": "light"
     },
     "output_type": "display_data"
    }
   ],
   "source": [
    "fig, ax = plt.subplots(figsize=(18,8))\n",
    "ax.scatter(y_test, outcomes['rfr_predictions'], edgecolors='r')\n",
    "ax.plot([y_test.min(), y_test.max()], [y_test.min(), y_test.max()], 'k--', lw=4, color='c')\n",
    "ax.set_xlabel('Measured')\n",
    "ax.set_ylabel('Predicted RFR')\n",
    "plt.show()"
   ]
  },
  {
   "cell_type": "markdown",
   "metadata": {},
   "source": [
    "#### SVM"
   ]
  },
  {
   "cell_type": "markdown",
   "metadata": {},
   "source": [
    "Zbudowanie oraz optymalizacja parametrów modelu."
   ]
  },
  {
   "cell_type": "code",
   "execution_count": 17,
   "metadata": {},
   "outputs": [],
   "source": [
    "# Perform Grid-Search to find hyperparameters for SVM regression estimator\n",
    "gsc_svm = GridSearchCV(estimator=svm.SVR(), \n",
    "                   param_grid={'C': [0.1,1, 10, 100], 'gamma': [1,0.1,0.01,0.001],\n",
    "                               'kernel': ['rbf', 'poly', 'sigmoid'], 'epsilon': [0.1,0.15,0.2,0.25,0.3],\n",
    "                              'max_iter': [100, 1000, 10000, 100000, 1000000]},\n",
    "                       cv=KFold(n_splits=10, shuffle=True, random_state=None), scoring='neg_mean_squared_error', \n",
    "                       verbose=1, n_jobs=-1, refit=True, return_train_score=True)"
   ]
  },
  {
   "cell_type": "code",
   "execution_count": 18,
   "metadata": {},
   "outputs": [
    {
     "name": "stdout",
     "output_type": "stream",
     "text": [
      "Fitting 10 folds for each of 1200 candidates, totalling 12000 fits\n"
     ]
    },
    {
     "name": "stderr",
     "output_type": "stream",
     "text": [
      "[Parallel(n_jobs=-1)]: Using backend LokyBackend with 12 concurrent workers.\n",
      "[Parallel(n_jobs=-1)]: Done  28 tasks      | elapsed:    0.4s\n",
      "[Parallel(n_jobs=-1)]: Done 244 tasks      | elapsed:   12.0s\n",
      "[Parallel(n_jobs=-1)]: Done 733 tasks      | elapsed:   28.1s\n",
      "[Parallel(n_jobs=-1)]: Done 1590 tasks      | elapsed:   46.7s\n",
      "[Parallel(n_jobs=-1)]: Done 2585 tasks      | elapsed:  1.2min\n",
      "[Parallel(n_jobs=-1)]: Done 3654 tasks      | elapsed:  1.6min\n",
      "[Parallel(n_jobs=-1)]: Done 5016 tasks      | elapsed:  3.0min\n",
      "[Parallel(n_jobs=-1)]: Done 6470 tasks      | elapsed:  3.9min\n",
      "[Parallel(n_jobs=-1)]: Done 7788 tasks      | elapsed:  5.6min\n",
      "[Parallel(n_jobs=-1)]: Done 9500 tasks      | elapsed:  7.7min\n",
      "[Parallel(n_jobs=-1)]: Done 10924 tasks      | elapsed:  9.8min\n",
      "[Parallel(n_jobs=-1)]: Done 12000 out of 12000 | elapsed: 11.3min finished\n"
     ]
    }
   ],
   "source": [
    "# fitting GridSearchCV instance for SVM with selected data\n",
    "grid_result = gsc_svm.fit(x_train.values, y_train.values.ravel())"
   ]
  },
  {
   "cell_type": "code",
   "execution_count": 19,
   "metadata": {},
   "outputs": [
    {
     "data": {
      "text/html": [
       "<div>\n",
       "<style scoped>\n",
       "    .dataframe tbody tr th:only-of-type {\n",
       "        vertical-align: middle;\n",
       "    }\n",
       "\n",
       "    .dataframe tbody tr th {\n",
       "        vertical-align: top;\n",
       "    }\n",
       "\n",
       "    .dataframe thead th {\n",
       "        text-align: right;\n",
       "    }\n",
       "</style>\n",
       "<table border=\"1\" class=\"dataframe\">\n",
       "  <thead>\n",
       "    <tr style=\"text-align: right;\">\n",
       "      <th></th>\n",
       "      <th>mean_fit_time</th>\n",
       "      <th>std_fit_time</th>\n",
       "      <th>mean_score_time</th>\n",
       "      <th>std_score_time</th>\n",
       "      <th>param_max_depth</th>\n",
       "      <th>param_n_estimators</th>\n",
       "      <th>params</th>\n",
       "      <th>split0_test_score</th>\n",
       "      <th>split1_test_score</th>\n",
       "      <th>split2_test_score</th>\n",
       "      <th>...</th>\n",
       "      <th>split2_train_score</th>\n",
       "      <th>split3_train_score</th>\n",
       "      <th>split4_train_score</th>\n",
       "      <th>split5_train_score</th>\n",
       "      <th>split6_train_score</th>\n",
       "      <th>split7_train_score</th>\n",
       "      <th>split8_train_score</th>\n",
       "      <th>split9_train_score</th>\n",
       "      <th>mean_train_score</th>\n",
       "      <th>std_train_score</th>\n",
       "    </tr>\n",
       "  </thead>\n",
       "  <tbody>\n",
       "    <tr>\n",
       "      <th>0</th>\n",
       "      <td>0.062912</td>\n",
       "      <td>0.017226</td>\n",
       "      <td>0.001017</td>\n",
       "      <td>0.002445</td>\n",
       "      <td>2</td>\n",
       "      <td>10</td>\n",
       "      <td>{'max_depth': 2, 'n_estimators': 10}</td>\n",
       "      <td>-0.057336</td>\n",
       "      <td>-0.046008</td>\n",
       "      <td>-0.043732</td>\n",
       "      <td>...</td>\n",
       "      <td>-0.042232</td>\n",
       "      <td>-0.035033</td>\n",
       "      <td>-0.043121</td>\n",
       "      <td>-0.039728</td>\n",
       "      <td>-0.044878</td>\n",
       "      <td>-0.042448</td>\n",
       "      <td>-0.047042</td>\n",
       "      <td>-0.040472</td>\n",
       "      <td>-0.042582</td>\n",
       "      <td>0.003349</td>\n",
       "    </tr>\n",
       "    <tr>\n",
       "      <th>1</th>\n",
       "      <td>0.237177</td>\n",
       "      <td>0.026947</td>\n",
       "      <td>0.005882</td>\n",
       "      <td>0.004287</td>\n",
       "      <td>2</td>\n",
       "      <td>50</td>\n",
       "      <td>{'max_depth': 2, 'n_estimators': 50}</td>\n",
       "      <td>-0.050826</td>\n",
       "      <td>-0.036896</td>\n",
       "      <td>-0.040195</td>\n",
       "      <td>...</td>\n",
       "      <td>-0.038491</td>\n",
       "      <td>-0.037213</td>\n",
       "      <td>-0.037377</td>\n",
       "      <td>-0.038151</td>\n",
       "      <td>-0.038876</td>\n",
       "      <td>-0.038689</td>\n",
       "      <td>-0.041961</td>\n",
       "      <td>-0.037877</td>\n",
       "      <td>-0.038741</td>\n",
       "      <td>0.001372</td>\n",
       "    </tr>\n",
       "    <tr>\n",
       "      <th>2</th>\n",
       "      <td>0.474879</td>\n",
       "      <td>0.070430</td>\n",
       "      <td>0.010355</td>\n",
       "      <td>0.000618</td>\n",
       "      <td>2</td>\n",
       "      <td>100</td>\n",
       "      <td>{'max_depth': 2, 'n_estimators': 100}</td>\n",
       "      <td>-0.052682</td>\n",
       "      <td>-0.038006</td>\n",
       "      <td>-0.040778</td>\n",
       "      <td>...</td>\n",
       "      <td>-0.038751</td>\n",
       "      <td>-0.033891</td>\n",
       "      <td>-0.035909</td>\n",
       "      <td>-0.037585</td>\n",
       "      <td>-0.037755</td>\n",
       "      <td>-0.038037</td>\n",
       "      <td>-0.043809</td>\n",
       "      <td>-0.037277</td>\n",
       "      <td>-0.038201</td>\n",
       "      <td>0.002498</td>\n",
       "    </tr>\n",
       "    <tr>\n",
       "      <th>3</th>\n",
       "      <td>4.916981</td>\n",
       "      <td>0.703325</td>\n",
       "      <td>0.107233</td>\n",
       "      <td>0.025317</td>\n",
       "      <td>2</td>\n",
       "      <td>1000</td>\n",
       "      <td>{'max_depth': 2, 'n_estimators': 1000}</td>\n",
       "      <td>-0.051241</td>\n",
       "      <td>-0.038659</td>\n",
       "      <td>-0.040495</td>\n",
       "      <td>...</td>\n",
       "      <td>-0.038612</td>\n",
       "      <td>-0.036424</td>\n",
       "      <td>-0.037922</td>\n",
       "      <td>-0.037766</td>\n",
       "      <td>-0.038046</td>\n",
       "      <td>-0.037174</td>\n",
       "      <td>-0.042240</td>\n",
       "      <td>-0.037039</td>\n",
       "      <td>-0.038455</td>\n",
       "      <td>0.001614</td>\n",
       "    </tr>\n",
       "    <tr>\n",
       "      <th>4</th>\n",
       "      <td>0.067828</td>\n",
       "      <td>0.015819</td>\n",
       "      <td>0.002232</td>\n",
       "      <td>0.003558</td>\n",
       "      <td>3</td>\n",
       "      <td>10</td>\n",
       "      <td>{'max_depth': 3, 'n_estimators': 10}</td>\n",
       "      <td>-0.023530</td>\n",
       "      <td>-0.013119</td>\n",
       "      <td>-0.018516</td>\n",
       "      <td>...</td>\n",
       "      <td>-0.016039</td>\n",
       "      <td>-0.015395</td>\n",
       "      <td>-0.015394</td>\n",
       "      <td>-0.015614</td>\n",
       "      <td>-0.014898</td>\n",
       "      <td>-0.015637</td>\n",
       "      <td>-0.016276</td>\n",
       "      <td>-0.014522</td>\n",
       "      <td>-0.015379</td>\n",
       "      <td>0.000525</td>\n",
       "    </tr>\n",
       "  </tbody>\n",
       "</table>\n",
       "<p>5 rows × 32 columns</p>\n",
       "</div>"
      ],
      "text/plain": [
       "   mean_fit_time  std_fit_time  mean_score_time  std_score_time  \\\n",
       "0       0.062912      0.017226         0.001017        0.002445   \n",
       "1       0.237177      0.026947         0.005882        0.004287   \n",
       "2       0.474879      0.070430         0.010355        0.000618   \n",
       "3       4.916981      0.703325         0.107233        0.025317   \n",
       "4       0.067828      0.015819         0.002232        0.003558   \n",
       "\n",
       "  param_max_depth param_n_estimators                                  params  \\\n",
       "0               2                 10    {'max_depth': 2, 'n_estimators': 10}   \n",
       "1               2                 50    {'max_depth': 2, 'n_estimators': 50}   \n",
       "2               2                100   {'max_depth': 2, 'n_estimators': 100}   \n",
       "3               2               1000  {'max_depth': 2, 'n_estimators': 1000}   \n",
       "4               3                 10    {'max_depth': 3, 'n_estimators': 10}   \n",
       "\n",
       "   split0_test_score  split1_test_score  split2_test_score  ...  \\\n",
       "0          -0.057336          -0.046008          -0.043732  ...   \n",
       "1          -0.050826          -0.036896          -0.040195  ...   \n",
       "2          -0.052682          -0.038006          -0.040778  ...   \n",
       "3          -0.051241          -0.038659          -0.040495  ...   \n",
       "4          -0.023530          -0.013119          -0.018516  ...   \n",
       "\n",
       "   split2_train_score  split3_train_score  split4_train_score  \\\n",
       "0           -0.042232           -0.035033           -0.043121   \n",
       "1           -0.038491           -0.037213           -0.037377   \n",
       "2           -0.038751           -0.033891           -0.035909   \n",
       "3           -0.038612           -0.036424           -0.037922   \n",
       "4           -0.016039           -0.015395           -0.015394   \n",
       "\n",
       "   split5_train_score  split6_train_score  split7_train_score  \\\n",
       "0           -0.039728           -0.044878           -0.042448   \n",
       "1           -0.038151           -0.038876           -0.038689   \n",
       "2           -0.037585           -0.037755           -0.038037   \n",
       "3           -0.037766           -0.038046           -0.037174   \n",
       "4           -0.015614           -0.014898           -0.015637   \n",
       "\n",
       "   split8_train_score  split9_train_score  mean_train_score  std_train_score  \n",
       "0           -0.047042           -0.040472         -0.042582         0.003349  \n",
       "1           -0.041961           -0.037877         -0.038741         0.001372  \n",
       "2           -0.043809           -0.037277         -0.038201         0.002498  \n",
       "3           -0.042240           -0.037039         -0.038455         0.001614  \n",
       "4           -0.016276           -0.014522         -0.015379         0.000525  \n",
       "\n",
       "[5 rows x 32 columns]"
      ]
     },
     "execution_count": 19,
     "metadata": {},
     "output_type": "execute_result"
    }
   ],
   "source": [
    "# GridSearchCV trainig raport \n",
    "pd.DataFrame(data=gsc_rfr.cv_results_).head()"
   ]
  },
  {
   "cell_type": "code",
   "execution_count": 20,
   "metadata": {},
   "outputs": [
    {
     "data": {
      "text/plain": [
       "{'C': 100, 'epsilon': 0.1, 'gamma': 0.01, 'kernel': 'rbf', 'max_iter': 100000}"
      ]
     },
     "execution_count": 20,
     "metadata": {},
     "output_type": "execute_result"
    }
   ],
   "source": [
    "best_params_svm = grid_result.best_params_\n",
    "best_params_svm"
   ]
  },
  {
   "cell_type": "code",
   "execution_count": 21,
   "metadata": {},
   "outputs": [],
   "source": [
    "svm_estimator = gsc_svm.best_estimator_"
   ]
  },
  {
   "cell_type": "markdown",
   "metadata": {},
   "source": [
    "**EWALUACJA**"
   ]
  },
  {
   "cell_type": "code",
   "execution_count": 23,
   "metadata": {},
   "outputs": [],
   "source": [
    "outcomes['svm_predictions'] = svm_estimator.predict(x_test.values)"
   ]
  },
  {
   "cell_type": "code",
   "execution_count": 24,
   "metadata": {},
   "outputs": [
    {
     "name": "stdout",
     "output_type": "stream",
     "text": [
      "The Explained Variance: 0.99\n",
      "The Mean Absolute Error: 0.07 degrees celsius\n",
      "The Median Absolute Error: 0.05 degrees celsius\n"
     ]
    }
   ],
   "source": [
    "print(\"The Explained Variance: %.2f\" % svm_estimator.score(x_test.values, y_test.values.ravel()))\n",
    "print(\"The Mean Absolute Error: %.2f degrees celsius\" % mean_absolute_error(y_test, outcomes['svm_predictions']))\n",
    "print(\"The Median Absolute Error: %.2f degrees celsius\" % median_absolute_error(y_test, outcomes['svm_predictions']))"
   ]
  },
  {
   "cell_type": "markdown",
   "metadata": {},
   "source": [
    "### II Graficzne przedstawienie uzyskanych wyników"
   ]
  },
  {
   "cell_type": "code",
   "execution_count": 25,
   "metadata": {},
   "outputs": [
    {
     "data": {
      "image/png": "[encoded data removed]",
      "text/plain": [
       "<Figure size 1296x576 with 1 Axes>"
      ]
     },
     "metadata": {
      "needs_background": "light"
     },
     "output_type": "display_data"
    }
   ],
   "source": [
    "fig, ax = plt.subplots(figsize=(18, 8))\n",
    "ax.scatter(y_test, outcomes['svm_predictions'], edgecolors='r')\n",
    "ax.plot([y_test.min(), y_test.max()], [y_test.min(), y_test.max()], 'k--', lw=4, color='c')\n",
    "ax.set_xlabel('Measured')\n",
    "ax.set_ylabel('Predicted SVM')\n",
    "plt.show()"
   ]
  },
  {
   "cell_type": "markdown",
   "metadata": {},
   "source": [
    "Przedstawienie zależności pomiędzy wynikami rzeczywistymi a uzyskanymi z wykorzystaniem regresji liniowej dla modeli RandomForest oraz SVM."
   ]
  },
  {
   "cell_type": "code",
   "execution_count": 26,
   "metadata": {},
   "outputs": [
    {
     "data": {
      "text/plain": [
       "<seaborn.axisgrid.PairGrid at 0x280198a2ac8>"
      ]
     },
     "execution_count": 26,
     "metadata": {},
     "output_type": "execute_result"
    },
    {
     "data": {
      "image/png": "[encoded data removed]",
      "text/plain": [
       "<Figure size 540x540 with 12 Axes>"
      ]
     },
     "metadata": {
      "needs_background": "light"
     },
     "output_type": "display_data"
    }
   ],
   "source": [
    "sns.pairplot(outcomes, palette='Dark2')"
   ]
  },
  {
   "cell_type": "markdown",
   "metadata": {},
   "source": [
    "### Podsumowanie"
   ]
  },
  {
   "cell_type": "markdown",
   "metadata": {},
   "source": [
    "W celu realizaji tematu predykcji średnich temperatur lądów na Ziemi, zbudowane oraz porównane zostały dwa modele regresji liniowej (RandomForest oraz SVM). Wyniki w obydwu przypadkach okazały się więcej niż zadowalające średni błąd absolutny (MAE) wyniósł odpowiednio 0,08 (RFF) oraz 0,07 (SVM) dla wyznaczonych zbiorów testowych. Cały proces przebiegł następująco:\n",
    "* Wyznaczenie optymalnych parametrów dla modeli regresji.\n",
    "* Zbudowanie modeli RandomForest oraz SVM\n",
    "* Ewaluacja modeli\n",
    "* Zestawienie graficzne otrzymanych wyników"
   ]
  },
  {
   "cell_type": "code",
   "execution_count": null,
   "metadata": {},
   "outputs": [],
   "source": []
  }
 ],
 "metadata": {
  "kernelspec": {
   "display_name": "Python 3",
   "language": "python",
   "name": "python3"
  },
  "language_info": {
   "codemirror_mode": {
    "name": "ipython",
    "version": 3
   },
   "file_extension": ".py",
   "mimetype": "text/x-python",
   "name": "python",
   "nbconvert_exporter": "python",
   "pygments_lexer": "ipython3",
   "version": "3.8.5"
  }
 },
 "nbformat": 4,
 "nbformat_minor": 4
}
