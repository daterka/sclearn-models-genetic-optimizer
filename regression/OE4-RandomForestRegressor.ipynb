{
 "cells": [
  {
   "cell_type": "markdown",
   "metadata": {},
   "source": [
    "# Wykorzystanie biblioteki DEAP w problemie optymalizacji parametrów klasyfikatorów oraz selekcji cech"
   ]
  },
  {
   "cell_type": "markdown",
   "metadata": {},
   "source": [
    "### I Optymalizacja parametrów klasyfikatorów"
   ]
  },
  {
   "cell_type": "code",
   "execution_count": 281,
   "metadata": {},
   "outputs": [],
   "source": [
    "# data manipulation tools\n",
    "import pandas as pd\n",
    "import numpy as np\n",
    "\n",
    "# Random Forest model\n",
    "from sklearn.ensemble import RandomForestRegressor\n",
    "\n",
    "# Linear Regression model\n",
    "from sklearn.linear_model import LinearRegression\n",
    "\n",
    "# Epsilon-Support Vector Regression\n",
    "from sklearn import svm \n",
    "\n",
    "# model selection\n",
    "from sklearn.model_selection import cross_val_score # perform cross-validation for estimator evaluation\n",
    "from sklearn.model_selection import cross_val_predict # generate cross-validated estimates for each input\n",
    "from sklearn.model_selection import train_test_split # splits arrays/matrices into random train and test subsets\n",
    "from sklearn.model_selection import GridSearchCV # determines estimator paremeters values\n",
    "from sklearn.model_selection import StratifiedKFold # stratified k-fold cross-validator\n",
    "from sklearn.model_selection import KFold # k-fold cross-validator\n",
    "\n",
    "# model evaluation\n",
    "from sklearn.metrics import mean_absolute_error, median_absolute_error\n",
    "\n",
    "# feature selection based on weights importance\n",
    "from sklearn.feature_selection import SelectFromModel\n",
    "\n",
    "# data preprocessing\n",
    "from sklearn.preprocessing import MinMaxScaler\n",
    "\n",
    "# plots\n",
    "import matplotlib.pyplot as plt\n",
    "import seaborn as sns\n",
    "\n",
    "# rest\n",
    "import random\n"
   ]
  },
  {
   "cell_type": "code",
   "execution_count": 282,
   "metadata": {},
   "outputs": [
    {
     "data": {
      "text/html": [
       "<div>\n",
       "<style scoped>\n",
       "    .dataframe tbody tr th:only-of-type {\n",
       "        vertical-align: middle;\n",
       "    }\n",
       "\n",
       "    .dataframe tbody tr th {\n",
       "        vertical-align: top;\n",
       "    }\n",
       "\n",
       "    .dataframe thead th {\n",
       "        text-align: right;\n",
       "    }\n",
       "</style>\n",
       "<table border=\"1\" class=\"dataframe\">\n",
       "  <thead>\n",
       "    <tr style=\"text-align: right;\">\n",
       "      <th></th>\n",
       "      <th>landAvg_1_PriorYear</th>\n",
       "      <th>landAvg_2_PriorYear</th>\n",
       "      <th>landAvg_3_PriorYear</th>\n",
       "      <th>landAvg_4_PriorYear</th>\n",
       "      <th>landMax_2_PriorYear</th>\n",
       "      <th>landMax_5_PriorYear</th>\n",
       "      <th>landMin_4_PriorYear</th>\n",
       "      <th>land&amp;OceanAvg_1_PriorYear</th>\n",
       "      <th>land&amp;OceanAvg_2_PriorYear</th>\n",
       "      <th>oceanAvg_1_PriorYear</th>\n",
       "      <th>oceanAvg_2_PriorYear</th>\n",
       "      <th>oceanAvg_5_PriorYear</th>\n",
       "    </tr>\n",
       "    <tr>\n",
       "      <th>date</th>\n",
       "      <th></th>\n",
       "      <th></th>\n",
       "      <th></th>\n",
       "      <th></th>\n",
       "      <th></th>\n",
       "      <th></th>\n",
       "      <th></th>\n",
       "      <th></th>\n",
       "      <th></th>\n",
       "      <th></th>\n",
       "      <th></th>\n",
       "      <th></th>\n",
       "    </tr>\n",
       "  </thead>\n",
       "  <tbody>\n",
       "    <tr>\n",
       "      <th>1850-01-01</th>\n",
       "      <td>-1.344498</td>\n",
       "      <td>-1.343748</td>\n",
       "      <td>-1.342076</td>\n",
       "      <td>-1.341202</td>\n",
       "      <td>-1.404913</td>\n",
       "      <td>-1.403688</td>\n",
       "      <td>-1.277205</td>\n",
       "      <td>-1.177569</td>\n",
       "      <td>-1.176354</td>\n",
       "      <td>1.528022</td>\n",
       "      <td>1.528980</td>\n",
       "      <td>1.529537</td>\n",
       "    </tr>\n",
       "    <tr>\n",
       "      <th>1851-01-01</th>\n",
       "      <td>-1.344498</td>\n",
       "      <td>-1.343748</td>\n",
       "      <td>-1.342076</td>\n",
       "      <td>-1.341202</td>\n",
       "      <td>-1.404913</td>\n",
       "      <td>-1.403688</td>\n",
       "      <td>-1.277205</td>\n",
       "      <td>-1.177569</td>\n",
       "      <td>-1.176354</td>\n",
       "      <td>1.528022</td>\n",
       "      <td>1.528980</td>\n",
       "      <td>1.529537</td>\n",
       "    </tr>\n",
       "    <tr>\n",
       "      <th>1852-01-01</th>\n",
       "      <td>-1.439527</td>\n",
       "      <td>-1.343748</td>\n",
       "      <td>-1.342076</td>\n",
       "      <td>-1.341202</td>\n",
       "      <td>-1.404913</td>\n",
       "      <td>-1.403688</td>\n",
       "      <td>-1.277205</td>\n",
       "      <td>-1.543883</td>\n",
       "      <td>-1.176354</td>\n",
       "      <td>1.233484</td>\n",
       "      <td>1.528980</td>\n",
       "      <td>1.529537</td>\n",
       "    </tr>\n",
       "    <tr>\n",
       "      <th>1853-01-01</th>\n",
       "      <td>-1.452432</td>\n",
       "      <td>-1.438803</td>\n",
       "      <td>-1.342076</td>\n",
       "      <td>-1.341202</td>\n",
       "      <td>-1.250940</td>\n",
       "      <td>-1.403688</td>\n",
       "      <td>-1.277205</td>\n",
       "      <td>-1.554889</td>\n",
       "      <td>-1.543128</td>\n",
       "      <td>1.248574</td>\n",
       "      <td>1.234485</td>\n",
       "      <td>1.529537</td>\n",
       "    </tr>\n",
       "    <tr>\n",
       "      <th>1854-01-01</th>\n",
       "      <td>-1.590870</td>\n",
       "      <td>-1.451711</td>\n",
       "      <td>-1.437103</td>\n",
       "      <td>-1.341202</td>\n",
       "      <td>-1.361717</td>\n",
       "      <td>-1.403688</td>\n",
       "      <td>-1.277205</td>\n",
       "      <td>-1.624064</td>\n",
       "      <td>-1.554147</td>\n",
       "      <td>1.479957</td>\n",
       "      <td>1.249573</td>\n",
       "      <td>1.529537</td>\n",
       "    </tr>\n",
       "  </tbody>\n",
       "</table>\n",
       "</div>"
      ],
      "text/plain": [
       "            landAvg_1_PriorYear  landAvg_2_PriorYear  landAvg_3_PriorYear  \\\n",
       "date                                                                        \n",
       "1850-01-01            -1.344498            -1.343748            -1.342076   \n",
       "1851-01-01            -1.344498            -1.343748            -1.342076   \n",
       "1852-01-01            -1.439527            -1.343748            -1.342076   \n",
       "1853-01-01            -1.452432            -1.438803            -1.342076   \n",
       "1854-01-01            -1.590870            -1.451711            -1.437103   \n",
       "\n",
       "            landAvg_4_PriorYear  landMax_2_PriorYear  landMax_5_PriorYear  \\\n",
       "date                                                                        \n",
       "1850-01-01            -1.341202            -1.404913            -1.403688   \n",
       "1851-01-01            -1.341202            -1.404913            -1.403688   \n",
       "1852-01-01            -1.341202            -1.404913            -1.403688   \n",
       "1853-01-01            -1.341202            -1.250940            -1.403688   \n",
       "1854-01-01            -1.341202            -1.361717            -1.403688   \n",
       "\n",
       "            landMin_4_PriorYear  land&OceanAvg_1_PriorYear  \\\n",
       "date                                                         \n",
       "1850-01-01            -1.277205                  -1.177569   \n",
       "1851-01-01            -1.277205                  -1.177569   \n",
       "1852-01-01            -1.277205                  -1.543883   \n",
       "1853-01-01            -1.277205                  -1.554889   \n",
       "1854-01-01            -1.277205                  -1.624064   \n",
       "\n",
       "            land&OceanAvg_2_PriorYear  oceanAvg_1_PriorYear  \\\n",
       "date                                                          \n",
       "1850-01-01                  -1.176354              1.528022   \n",
       "1851-01-01                  -1.176354              1.528022   \n",
       "1852-01-01                  -1.176354              1.233484   \n",
       "1853-01-01                  -1.543128              1.248574   \n",
       "1854-01-01                  -1.554147              1.479957   \n",
       "\n",
       "            oceanAvg_2_PriorYear  oceanAvg_5_PriorYear  \n",
       "date                                                    \n",
       "1850-01-01              1.528980              1.529537  \n",
       "1851-01-01              1.528980              1.529537  \n",
       "1852-01-01              1.528980              1.529537  \n",
       "1853-01-01              1.234485              1.529537  \n",
       "1854-01-01              1.249573              1.529537  "
      ]
     },
     "execution_count": 282,
     "metadata": {},
     "output_type": "execute_result"
    }
   ],
   "source": [
    "# loading data\n",
    "import pandas as pd\n",
    "\n",
    "%store -r predictors_x\n",
    "%store -r outcomes_y\n",
    "\n",
    "predictors_x.head()"
   ]
  },
  {
   "cell_type": "code",
   "execution_count": 283,
   "metadata": {},
   "outputs": [
    {
     "data": {
      "text/html": [
       "<div>\n",
       "<style scoped>\n",
       "    .dataframe tbody tr th:only-of-type {\n",
       "        vertical-align: middle;\n",
       "    }\n",
       "\n",
       "    .dataframe tbody tr th {\n",
       "        vertical-align: top;\n",
       "    }\n",
       "\n",
       "    .dataframe thead th {\n",
       "        text-align: right;\n",
       "    }\n",
       "</style>\n",
       "<table border=\"1\" class=\"dataframe\">\n",
       "  <thead>\n",
       "    <tr style=\"text-align: right;\">\n",
       "      <th></th>\n",
       "      <th>landAvg</th>\n",
       "    </tr>\n",
       "    <tr>\n",
       "      <th>date</th>\n",
       "      <th></th>\n",
       "    </tr>\n",
       "  </thead>\n",
       "  <tbody>\n",
       "    <tr>\n",
       "      <th>1850-01-01</th>\n",
       "      <td>-1.834912</td>\n",
       "    </tr>\n",
       "    <tr>\n",
       "      <th>1851-01-01</th>\n",
       "      <td>-1.440372</td>\n",
       "    </tr>\n",
       "    <tr>\n",
       "      <th>1852-01-01</th>\n",
       "      <td>-1.453273</td>\n",
       "    </tr>\n",
       "    <tr>\n",
       "      <th>1853-01-01</th>\n",
       "      <td>-1.591667</td>\n",
       "    </tr>\n",
       "    <tr>\n",
       "      <th>1854-01-01</th>\n",
       "      <td>-1.710123</td>\n",
       "    </tr>\n",
       "  </tbody>\n",
       "</table>\n",
       "</div>"
      ],
      "text/plain": [
       "             landAvg\n",
       "date                \n",
       "1850-01-01 -1.834912\n",
       "1851-01-01 -1.440372\n",
       "1852-01-01 -1.453273\n",
       "1853-01-01 -1.591667\n",
       "1854-01-01 -1.710123"
      ]
     },
     "execution_count": 283,
     "metadata": {},
     "output_type": "execute_result"
    }
   ],
   "source": [
    "outcomes_y.head()"
   ]
  },
  {
   "cell_type": "code",
   "execution_count": 284,
   "metadata": {},
   "outputs": [],
   "source": [
    "x_train, x_test, y_train, y_test = train_test_split(predictors_x, outcomes_y, test_size=0.1, random_state=0)"
   ]
  },
  {
   "cell_type": "code",
   "execution_count": 285,
   "metadata": {},
   "outputs": [
    {
     "data": {
      "text/plain": [
       "((1792, 12), (1792, 1))"
      ]
     },
     "execution_count": 285,
     "metadata": {},
     "output_type": "execute_result"
    }
   ],
   "source": [
    "x_train.shape, y_train.shape"
   ]
  },
  {
   "cell_type": "code",
   "execution_count": 286,
   "metadata": {},
   "outputs": [
    {
     "data": {
      "text/plain": [
       "((200, 12), (200, 1))"
      ]
     },
     "execution_count": 286,
     "metadata": {},
     "output_type": "execute_result"
    }
   ],
   "source": [
    "x_test.shape, y_test.shape"
   ]
  },
  {
   "cell_type": "code",
   "execution_count": 287,
   "metadata": {},
   "outputs": [
    {
     "name": "stdout",
     "output_type": "stream",
     "text": [
      "12\n"
     ]
    }
   ],
   "source": [
    "# Preprocessing\n",
    "numberOfAtributtes= len(x_train.columns)\n",
    "print(numberOfAtributtes)"
   ]
  },
  {
   "cell_type": "code",
   "execution_count": 341,
   "metadata": {},
   "outputs": [
    {
     "name": "stdout",
     "output_type": "stream",
     "text": [
      "0.9899484470163238\n"
     ]
    }
   ],
   "source": [
    "# Regression using SVC with default parameters and 5x K-fold cross validation for all 45 features\n",
    "from sklearn.model_selection import cross_val_score\n",
    "from sklearn.ensemble import RandomForestRegressor\n",
    "\n",
    "y=y_train.values.ravel()\n",
    "df = df_norm=x_train.values\n",
    "\n",
    "regr = RandomForestRegressor(n_estimators=1000, criterion='mse', max_depth=None, min_samples_split=16,\n",
    "                             min_samples_leaf=2, min_weight_fraction_leaf=0.0, max_features='auto')\n",
    "regr.fit(df, y)\n",
    "scores=regr.score(x_test, y_test.values.ravel())\n",
    "print(scores.mean())"
   ]
  },
  {
   "cell_type": "code",
   "execution_count": 289,
   "metadata": {},
   "outputs": [],
   "source": [
    "# Generationg new individual\n",
    "import random\n",
    "def parametersRFR(numberFeatures,icls):\n",
    "    genome = list()\n",
    "    \n",
    "    # n_estimators\n",
    "    n_estimators = [10, 20, 50, 100, 200, 500, 1000]\n",
    "    genome.append(n_estimators[random.randint(0,6)])\n",
    "    \n",
    "    # criterion\n",
    "    criterion = ['mse', 'mae']\n",
    "    genome.append(criterion[random.randint(0, 1)])\n",
    "    \n",
    "    # max_depth\n",
    "    max_depth = None\n",
    "    depths=[1,2,4,8,16,32]\n",
    "    if random.uniform(0,1) > 0.5: max_deph = depths[random.randint(0, 5)]\n",
    "    genome.append(max_depth)\n",
    "    \n",
    "    # min_samples_split\n",
    "    min_samples_split = 2\n",
    "    samples_splits = [4, 8, 16, 32]\n",
    "    if random.uniform(0,1) > 0.5: min_samples_split = samples_splits[random.randint(0, 3)]\n",
    "    genome.append(min_samples_split)\n",
    "    \n",
    "    # min_samples_leaf\n",
    "    min_samples_leaf = 2\n",
    "    samples_leafs = [4, 8, 16, 32]\n",
    "    if random.uniform(0,1) > 0.5: min_samples_leaf = samples_leafs[random.randint(0, 3)]\n",
    "    genome.append(min_samples_leaf)\n",
    "    \n",
    "    # min_weight_fraction_leaf\n",
    "    min_weight_fraction_leaf = 0.0\n",
    "    if random.uniform(0,1) > 0.5: min_weight_fraction_leaf = random.uniform(0.0, 0.5)\n",
    "    genome.append(min_weight_fraction_leaf)\n",
    "    \n",
    "    # max_features\n",
    "    max_features = ['auto', 'sqrt', 'log2']\n",
    "    genome.append(max_features[random.randint(0, 2)])\n",
    "\n",
    "    return icls(genome)"
   ]
  },
  {
   "cell_type": "code",
   "execution_count": 290,
   "metadata": {},
   "outputs": [],
   "source": [
    "# Mutation\n",
    "def mutationRFR(individual):\n",
    "    numberParamer= random.randint(0,len(individual)-1)\n",
    "    if numberParamer==0:\n",
    "        # n_estimators\n",
    "        n_estimators = [10, 20, 50, 100, 200, 500, 1000]\n",
    "        individual[numberParamer]=n_estimators[random.randint(0, 6)]\n",
    "    elif numberParamer==1:    \n",
    "        # criterion\n",
    "        criterion = ['mse', 'mae']\n",
    "        individual[numberParamer]=criterion[random.randint(0, 1)]\n",
    "    elif numberParamer==2: \n",
    "        max_depth = None\n",
    "        depths=[1,2,4,8,16,32]\n",
    "        if random.uniform(0,1) > 0.5: max_deph = depths[random.randint(0, 5)]\n",
    "        individual[numberParamer]=max_depth\n",
    "    elif numberParamer==3: \n",
    "        # min_samples_split\n",
    "        min_samples_split = 2\n",
    "        samples_splits = [4, 8, 16, 32]\n",
    "        if random.uniform(0,1) > 0.5: min_samples_split = samples_splits[random.randint(0, 3)]\n",
    "        individual[numberParamer]=min_samples_split\n",
    "    elif numberParamer==4: \n",
    "        # min_samples_leaf\n",
    "        min_samples_leaf = 2\n",
    "        samples_leafs = [4, 8, 16, 32]\n",
    "        if random.uniform(0,1) > 0.5: min_samples_leaf = samples_leafs[random.randint(0, 3)]\n",
    "        individual[numberParamer]=min_samples_leaf\n",
    "    elif numberParamer==5: \n",
    "        # min_weight_fraction_leaf\n",
    "        min_weight_fraction_leaf = 0.0\n",
    "        if random.uniform(0,1) > 0.2: min_weight_fraction_leaf = random.uniform(0.0, 0.5)\n",
    "        individual[numberParamer]=min_weight_fraction_leaf\n",
    "    elif numberParamer==6: \n",
    "        # max_features\n",
    "        max_features = ['auto', 'sqrt', 'log2']\n",
    "        individual[numberParamer]=max_features[random.randint(0, 2)]"
   ]
  },
  {
   "cell_type": "code",
   "execution_count": 291,
   "metadata": {},
   "outputs": [],
   "source": [
    "# Fitness function\n",
    "import math\n",
    "from sklearn import metrics\n",
    "from sklearn.model_selection import KFold\n",
    "from sklearn.ensemble import RandomForestRegressor\n",
    "\n",
    "def parametersFitnessRFR(y,df,numberOfAtributtes,individual):\n",
    "    split=5\n",
    "    kf = KFold(n_splits=split)\n",
    "    df_norm = df\n",
    "\n",
    "    estimator = RandomForestRegressor(n_estimators=individual[0], criterion=individual[1], \n",
    "                                       max_depth=individual[2],min_samples_split=individual[3], \n",
    "                                       min_samples_leaf=individual[4], min_weight_fraction_leaf=individual[5], \n",
    "                                       max_features=individual[6], n_jobs=-1)\n",
    "    resultSum = 0\n",
    "    counter = 0\n",
    "    for train, test in kf.split(df_norm):\n",
    "        estimator.fit(df_norm[train], y[train])\n",
    "        predicted = estimator.predict(df_norm[test])\n",
    "        expected = y[test]\n",
    "        resultSum=estimator.score(df_norm[test], y[test])\n",
    "        counter+=1\n",
    "    return resultSum/counter,"
   ]
  },
  {
   "cell_type": "code",
   "execution_count": 292,
   "metadata": {},
   "outputs": [],
   "source": [
    "from deap import base, creator, tools\n",
    "import random\n",
    "from math import sin\n",
    "import matplotlib.pyplot as plt\n",
    "from timeit import default_timer as timer"
   ]
  },
  {
   "cell_type": "code",
   "execution_count": 293,
   "metadata": {},
   "outputs": [],
   "source": [
    "sizePopulation = 100\n",
    "probabilityMutation = 0.2\n",
    "probabilityCrossover = 0.8\n",
    "numberIteration = 10\n",
    "numberElitism = 100"
   ]
  },
  {
   "cell_type": "code",
   "execution_count": 294,
   "metadata": {},
   "outputs": [],
   "source": [
    "def configureDeap(fitness, parameters, mutation,\n",
    "                  selection_param={'function':tools.selTournament, 'tournsize':3},\n",
    "                 mate_params={'function':tools.cxTwoPoint},):\n",
    "    \n",
    "    creator.create('FitnessMax', base.Fitness, weights=(1.0,))\n",
    "    creator.create(\"Individual\", list, fitness=creator.FitnessMax)\n",
    "\n",
    "    toolbox = base.Toolbox() \n",
    "    toolbox.register('individual', parameters, numberOfAtributtes, creator.Individual)\n",
    "    toolbox.register('evaluate', fitness,y,df,numberOfAtributtes)\n",
    "    toolbox.register('population', tools.initRepeat, list, toolbox.individual)\n",
    "    toolbox.register('select', **selection_param)\n",
    "    toolbox.register('mate', **mate_params)\n",
    "    toolbox.register('mutate', mutation)\n",
    "\n",
    "    return toolbox"
   ]
  },
  {
   "cell_type": "code",
   "execution_count": 295,
   "metadata": {},
   "outputs": [],
   "source": [
    "def mutate(toolbox, offspring):\n",
    "    for mutant in offspring:\n",
    "        # mutation\n",
    "        if random.random() < probabilityMutation:\n",
    "            toolbox.mutate(mutant)\n",
    "            del mutant.fitness.values\n",
    "    return offspring"
   ]
  },
  {
   "cell_type": "code",
   "execution_count": 296,
   "metadata": {},
   "outputs": [],
   "source": [
    "def setIndividualFitnessValue(individuals, fitnesses):\n",
    "    for ind, fit in zip(individuals, fitnesses):\n",
    "        ind.fitness.value = [fit]\n",
    "    return individuals"
   ]
  },
  {
   "cell_type": "code",
   "execution_count": 297,
   "metadata": {},
   "outputs": [],
   "source": [
    "def initPopulation(toolbox):\n",
    "    population = toolbox.population(n=sizePopulation)\n",
    "    fitnesses = list(map(toolbox.evaluate, population))\n",
    "    population = setIndividualFitnessValue(population, fitnesses)\n",
    "    return population"
   ]
  },
  {
   "cell_type": "code",
   "execution_count": 298,
   "metadata": {},
   "outputs": [],
   "source": [
    "def crossover(toolbox, offspring):\n",
    "    # [::2] - gets only individuals with odd indexes\n",
    "    # [1::2] -  gets only individuals with even indexes\n",
    "    for child1, child2 in zip(offspring[::2], offspring[1::2]):\n",
    "        # crossover\n",
    "        if random.random() < probabilityCrossover:\n",
    "            toolbox.mate(child1, child2)\n",
    "            del child1.fitness.values\n",
    "            del child2.fitness.values\n",
    "    return offspring"
   ]
  },
  {
   "cell_type": "code",
   "execution_count": 299,
   "metadata": {},
   "outputs": [],
   "source": [
    "def evaluate(toolbox, offspring, verbose=0):\n",
    "    # evaluate new individuals\n",
    "    new_individuals = [ind for ind in offspring if not ind.fitness.valid]\n",
    "    new_fitnesses = map(toolbox.evaluate, new_individuals)\n",
    "    for ind, fit in zip(new_individuals, new_fitnesses):\n",
    "        ind.fitness.values = fit\n",
    "    \n",
    "    if verbose>3:\n",
    "        print('Ewaluated %i individuals'%len(new_individuals))\n",
    "    return offspring"
   ]
  },
  {
   "cell_type": "code",
   "execution_count": 300,
   "metadata": {},
   "outputs": [],
   "source": [
    "def getBestsForElitism(population):\n",
    "    listElitism = []\n",
    "    for x in range(0, numberElitism):\n",
    "        listElitism.append(tools.selBest(population, 1)[0])\n",
    "    return listElitism"
   ]
  },
  {
   "cell_type": "code",
   "execution_count": 301,
   "metadata": {},
   "outputs": [],
   "source": [
    "def calculateStatistics(population,verbose=0):\n",
    "    fits = [ind.fitness.values[0] for ind in population]\n",
    "    length = len(population)\n",
    "    mean = sum(fits)/length\n",
    "    sum2 = sum(x*x for x in fits)\n",
    "    std = abs(sum2/length-mean **2)**0.5\n",
    "    if verbose>2:\n",
    "        print(\"  Min %s\" % min(fits))\n",
    "        print(\"  Max %s\" % max(fits))\n",
    "        print(\"  Avg %s\" % mean)\n",
    "        print(\"  Std %s\" % std)\n",
    "    return (mean, std)"
   ]
  },
  {
   "cell_type": "code",
   "execution_count": 302,
   "metadata": {},
   "outputs": [],
   "source": [
    "def pickBestIndividual(population, verbose=0):\n",
    "    best_ind = tools.selBest(population, 1)[0]\n",
    "    if verbose>1:\n",
    "        print(\"Best individual is %s, %s\" % (best_ind, best_ind.fitness.values))\n",
    "    return best_ind"
   ]
  },
  {
   "cell_type": "code",
   "execution_count": 303,
   "metadata": {},
   "outputs": [],
   "source": [
    "def plotSimple(y_vals=[], label_y='y', label_x='x', title='plot', instance_info='no_info', save_location='./plots/'):\n",
    "    filename = save_location + title+'_'+ instance_info +'.png'\n",
    "    x_vals = [x for x in range(len(y_vals))]\n",
    "    plt.plot(x_vals, y_vals)\n",
    "    plt.title(title)\n",
    "    plt.ylabel(label_y)\n",
    "    plt.xlabel(label_x)\n",
    "#     plt.savefig(filename)\n",
    "    plt.show()\n",
    "    plt.close()"
   ]
  },
  {
   "cell_type": "code",
   "execution_count": 304,
   "metadata": {},
   "outputs": [],
   "source": [
    "def plotResults(stats):\n",
    "    plotSimple([best[0].fitness.values[0] for best in stats], 'best', 'epoch', 'fitness(iteration)')\n",
    "    plotSimple([best[1] for best in stats], 'mean', 'epoch', 'mean(iteration)')\n",
    "    plotSimple([best[2] for best in stats], 'std', 'epoch', 'std(iteration)')\n",
    "    plotSimple([best[3] for best in stats], 'duration', 'epoch', 'epoch_duration(iteration)')"
   ]
  },
  {
   "cell_type": "code",
   "execution_count": 305,
   "metadata": {},
   "outputs": [],
   "source": [
    "def startOptimizationLoop(toolbox, population, elitism=False, verbose=0):\n",
    "    stats = []\n",
    "    g = 0\n",
    "    while g < numberIteration:\n",
    "        g = g + 1\n",
    "        if verbose>0:\n",
    "            print('-- Generation %i --' % g)\n",
    "        start = timer()  \n",
    "        offspring = toolbox.select(population, len(population))\n",
    "        offspring = list(map(toolbox.clone, offspring))\n",
    "        \n",
    "        elite = getBestsForElitism(offspring) if elitism else []\n",
    "        \n",
    "        offspring = crossover(toolbox, offspring)\n",
    "        offspring = mutate(toolbox, offspring)\n",
    "        offspring = evaluate(toolbox, offspring)\n",
    "        duration = timer()-start\n",
    "        \n",
    "        population[:] = offspring + elite\n",
    "\n",
    "        mean, std = calculateStatistics(population, verbose)\n",
    "        best_ind = pickBestIndividual(population, verbose)\n",
    "        stats.append((best_ind, mean, std, duration))\n",
    "    \n",
    "    if verbose>-1:\n",
    "        best_overall = pickBestIndividual(population, verbose)\n",
    "        print('Best found individual: (x1,x2) =', best_overall, ', y =', best_overall.fitness.values[0])\n",
    "    return stats"
   ]
  },
  {
   "cell_type": "code",
   "execution_count": 306,
   "metadata": {},
   "outputs": [],
   "source": [
    "def run(fitness, parameters, mutation, selection, mate, elitism, verbose):\n",
    "    toolbox = configureDeap(fitness, parameters, mutation, selection, mate)\n",
    "    population = initPopulation(toolbox)\n",
    "    stats = startOptimizationLoop(toolbox, population, elitism, verbose)\n",
    "    plotResults(stats)"
   ]
  },
  {
   "cell_type": "code",
   "execution_count": 267,
   "metadata": {},
   "outputs": [
    {
     "name": "stderr",
     "output_type": "stream",
     "text": [
      "C:\\Users\\dtms\\anaconda3\\lib\\site-packages\\deap\\creator.py:138: RuntimeWarning: A class named 'FitnessMax' has already been created and it will be overwritten. Consider deleting previous creation of that class or rename it.\n",
      "  warnings.warn(\"A class named '{0}' has already been created and it \"\n",
      "C:\\Users\\dtms\\anaconda3\\lib\\site-packages\\deap\\creator.py:138: RuntimeWarning: A class named 'Individual' has already been created and it will be overwritten. Consider deleting previous creation of that class or rename it.\n",
      "  warnings.warn(\"A class named '{0}' has already been created and it \"\n"
     ]
    },
    {
     "name": "stdout",
     "output_type": "stream",
     "text": [
      "-- Generation 1 --\n",
      "  Min 0.16719420662271514\n",
      "  Max 0.19815726815892426\n",
      "  Avg 0.19648378549896245\n",
      "  Std 0.006720196278336469\n",
      "Best individual is [200, 'mae', None, 2, 2, 0.0, 'auto'], (0.19815726815892426,)\n",
      "-- Generation 2 --\n",
      "  Min 0.19802709969597887\n",
      "  Max 0.19815864277031972\n",
      "  Avg 0.19809859987041065\n",
      "  Std 4.1635797973873696e-05\n",
      "Best individual is [100, 'mse', None, 16, 2, 0.0, 'auto'], (0.19815864277031972,)\n",
      "-- Generation 3 --\n",
      "  Min 0.17162485107665273\n",
      "  Max 0.19817446743826134\n",
      "  Avg 0.19679927449237122\n",
      "  Std 0.005775536532255416\n",
      "Best individual is [500, 'mae', None, 4, 2, 0.0, 'auto'], (0.19817446743826134,)\n",
      "-- Generation 4 --\n",
      "  Min 0.19808651606091152\n",
      "  Max 0.1981768501705087\n",
      "  Avg 0.19814248364084003\n",
      "  Std 2.07447749961114e-05\n",
      "Best individual is [1000, 'mse', None, 16, 2, 0.0, 'auto'], (0.1981768501705087,)\n",
      "-- Generation 5 --\n",
      "  Min 0.1981011571947751\n",
      "  Max 0.19818711225458835\n",
      "  Avg 0.1981464701816245\n",
      "  Std 2.68975985913834e-05\n",
      "Best individual is [1000, 'mse', None, 16, 2, 0.0, 'auto'], (0.19818711225458835,)\n",
      "-- Generation 6 --\n",
      "  Min 0.19807930572447946\n",
      "  Max 0.19819934741692508\n",
      "  Avg 0.19815265321325545\n",
      "  Std 3.05443856442044e-05\n",
      "Best individual is [1000, 'mse', None, 16, 2, 0.0, 'auto'], (0.19819934741692508,)\n",
      "-- Generation 7 --\n",
      "  Min 0.1940839160849063\n",
      "  Max 0.19819225342436175\n",
      "  Avg 0.19795260254910985\n",
      "  Std 0.0008892077233963278\n",
      "Best individual is [1000, 'mse', None, 16, 2, 0.0, 'auto'], (0.19819225342436175,)\n",
      "-- Generation 8 --\n",
      "  Min 0.19814614657671276\n",
      "  Max 0.19825513302955533\n",
      "  Avg 0.19818084515538886\n",
      "  Std 2.0261536127073164e-05\n",
      "Best individual is [50, 'mse', None, 16, 2, 0.0, 'auto'], (0.19825513302955533,)\n",
      "-- Generation 9 --\n",
      "  Min 0.19804314391084346\n",
      "  Max 0.19825513302955533\n",
      "  Avg 0.19816863219845565\n",
      "  Std 4.341499560052278e-05\n",
      "Best individual is [50, 'mse', None, 16, 2, 0.0, 'auto'], (0.19825513302955533,)\n",
      "-- Generation 10 --\n",
      "  Min 0.19810661204404428\n",
      "  Max 0.1981919325627468\n",
      "  Avg 0.1981670188299695\n",
      "  Std 2.1864763522415546e-05\n",
      "Best individual is [1000, 'mse', None, 16, 2, 0.0, 'auto'], (0.1981919325627468,)\n",
      "Best individual is [1000, 'mse', None, 16, 2, 0.0, 'auto'], (0.1981919325627468,)\n",
      "Best found individual: (x1,x2) = [1000, 'mse', None, 16, 2, 0.0, 'auto'] , y = 0.1981919325627468\n"
     ]
    },
    {
     "data": {
      "image/png": "[encoded data removed]",
      "text/plain": [
       "<Figure size 432x288 with 1 Axes>"
      ]
     },
     "metadata": {
      "needs_background": "light"
     },
     "output_type": "display_data"
    },
    {
     "data": {
      "image/png": "[encoded data removed]",
      "text/plain": [
       "<Figure size 432x288 with 1 Axes>"
      ]
     },
     "metadata": {
      "needs_background": "light"
     },
     "output_type": "display_data"
    },
    {
     "data": {
      "image/png": "[encoded data removed]",
      "text/plain": [
       "<Figure size 432x288 with 1 Axes>"
      ]
     },
     "metadata": {
      "needs_background": "light"
     },
     "output_type": "display_data"
    },
    {
     "data": {
      "image/png": "[encoded data removed]",
      "text/plain": [
       "<Figure size 432x288 with 1 Axes>"
      ]
     },
     "metadata": {
      "needs_background": "light"
     },
     "output_type": "display_data"
    }
   ],
   "source": [
    "# scenario 0 (tournament, cxTwoPoint, with elitism):\n",
    "selection={'function':tools.selTournament, 'tournsize':3} \n",
    "mate={'function':tools.cxTwoPoint}\n",
    "\n",
    "parameters=parametersRFR\n",
    "fitness=parametersFitnessRFR\n",
    "mutation=mutationRFR\n",
    "elitism = False\n",
    "verbose = 7\n",
    "run(fitness, parameters, mutation, selection , mate , elitism, verbose)"
   ]
  },
  {
   "cell_type": "raw",
   "metadata": {},
   "source": [
    "Best found individual: (x1,x2) = [65, 'entropy', None, 10, 7, 0.0, 'log2'] , y = 0.8041666666666668"
   ]
  },
  {
   "cell_type": "markdown",
   "metadata": {},
   "source": [
    "### II Selekcja cech"
   ]
  },
  {
   "cell_type": "code",
   "execution_count": 307,
   "metadata": {},
   "outputs": [],
   "source": [
    "# Generationg new individual\n",
    "import random\n",
    "def parametersFeaturesRFR(numberFeatures,icls):\n",
    "    genome = list()\n",
    "    \n",
    "    # n_estimators\n",
    "    n_estimators = [10, 20, 50, 100, 200, 500, 1000]\n",
    "    genome.append(n_estimators[random.randint(0,6)])\n",
    "    \n",
    "    # criterion\n",
    "    criterion = ['mse', 'mae']\n",
    "    genome.append(criterion[random.randint(0, 1)])\n",
    "    \n",
    "    # max_depth\n",
    "    max_depth = None\n",
    "    depths=[1,2,4,8,16,32]\n",
    "    if random.uniform(0,1) > 0.5: max_deph = depths[random.randint(0, 5)]\n",
    "    genome.append(max_depth)\n",
    "    \n",
    "    # min_samples_split\n",
    "    min_samples_split = 2\n",
    "    samples_splits = [4, 8, 16, 32]\n",
    "    if random.uniform(0,1) > 0.5: min_samples_split = samples_splits[random.randint(0, 3)]\n",
    "    genome.append(min_samples_split)\n",
    "    \n",
    "    # min_samples_leaf\n",
    "    min_samples_leaf = 2\n",
    "    samples_leafs = [4, 8, 16, 32]\n",
    "    if random.uniform(0,1) > 0.5: min_samples_leaf = samples_leafs[random.randint(0, 3)]\n",
    "    genome.append(min_samples_leaf)\n",
    "    \n",
    "    # min_weight_fraction_leaf\n",
    "    min_weight_fraction_leaf = 0.0\n",
    "    if random.uniform(0,1) > 0.5: min_weight_fraction_leaf = random.uniform(0.0, 0.5)\n",
    "    genome.append(min_weight_fraction_leaf)\n",
    "    \n",
    "    # max_features\n",
    "    max_features = ['auto', 'sqrt', 'log2']\n",
    "    genome.append(max_features[random.randint(0, 2)])\n",
    "    \n",
    "    # features\n",
    "    for i in range(0,numberFeatures):\n",
    "        genome.append(random.randint(0, 1))\n",
    "\n",
    "    return icls(genome)"
   ]
  },
  {
   "cell_type": "code",
   "execution_count": 308,
   "metadata": {},
   "outputs": [],
   "source": [
    "# Mutation\n",
    "def mutationFeaturesRFR(individual):\n",
    "    numberParamer= random.randint(0,len(individual)-1)\n",
    "    if numberParamer==0:\n",
    "        # n_estimators\n",
    "        n_estimators = [10, 20, 50, 100, 200, 500, 1000]\n",
    "        individual[numberParamer]=n_estimators[random.randint(0, 6)]\n",
    "    elif numberParamer==1:    \n",
    "        # criterion\n",
    "        criterion = ['mse', 'mae']\n",
    "        individual[numberParamer]=criterion[random.randint(0, 1)]\n",
    "    elif numberParamer==2: \n",
    "        max_depth = None\n",
    "        depths=[1,2,4,8,16,32]\n",
    "        if random.uniform(0,1) > 0.5: max_deph = depths[random.randint(0, 5)]\n",
    "        individual[numberParamer]=max_depth\n",
    "    elif numberParamer==3: \n",
    "        # min_samples_split\n",
    "        min_samples_split = 2\n",
    "        samples_splits = [4, 8, 16, 32]\n",
    "        if random.uniform(0,1) > 0.5: min_samples_split = samples_splits[random.randint(0, 3)]\n",
    "        individual[numberParamer]=min_samples_split\n",
    "    elif numberParamer==4: \n",
    "        # min_samples_leaf\n",
    "        min_samples_leaf = 2\n",
    "        samples_leafs = [4, 8, 16, 32]\n",
    "        if random.uniform(0,1) > 0.5: min_samples_leaf = samples_leafs[random.randint(0, 3)]\n",
    "        individual[numberParamer]=min_samples_leaf\n",
    "    elif numberParamer==5: \n",
    "        # min_weight_fraction_leaf\n",
    "        min_weight_fraction_leaf = 0.0\n",
    "        if random.uniform(0,1) > 0.2: min_weight_fraction_leaf = random.uniform(0.0, 0.5)\n",
    "        individual[numberParamer]=min_weight_fraction_leaf\n",
    "    elif numberParamer==6: \n",
    "        # max_features\n",
    "        max_features = ['auto', 'sqrt', 'log2']\n",
    "        individual[numberParamer]=max_features[random.randint(0, 2)]\n",
    "    else: #genetyczna selekcja cech\n",
    "        if individual[numberParamer] == 0: \n",
    "            individual[numberParamer] = 1\n",
    "        else:\n",
    "            individual[numberParamer] = 0"
   ]
  },
  {
   "cell_type": "code",
   "execution_count": 336,
   "metadata": {},
   "outputs": [],
   "source": [
    "# Fitness function\n",
    "import math\n",
    "from sklearn import metrics\n",
    "from sklearn.model_selection import KFold\n",
    "from sklearn.ensemble import RandomForestRegressor\n",
    "\n",
    "def parametersFitnessFeaturesRFR(y,df,numberOfAtributtes,individual):\n",
    "    split=5\n",
    "    kf = KFold(n_splits=split)\n",
    "    \n",
    "    df_norm = df\n",
    "    listColumnsToDrop=[] #lista cech do usuniecia\n",
    "    ind = 0\n",
    "    cols = []\n",
    "    for i in range(numberOfAtributtes,len(individual)):\n",
    "        if individual[i]==0: #gdy atrybut ma zero to usuwamy cechę\n",
    "            cols.append(ind)\n",
    "            ind+=1\n",
    "    df_norm = np.delete(df_norm, cols, 1)\n",
    "                \n",
    "    estimator = RandomForestRegressor(n_estimators=individual[0], criterion=individual[1], \n",
    "                                       max_depth=individual[2],min_samples_split=individual[3], \n",
    "                                       min_samples_leaf=individual[4], min_weight_fraction_leaf=individual[5], \n",
    "                                       max_features=individual[6], n_jobs=-1)\n",
    "    resultSum = 0\n",
    "    counter = 0\n",
    "    for train, test in kf.split(df_norm):\n",
    "        estimator.fit(df_norm[train], y[train])\n",
    "        predicted = estimator.predict(df_norm[test])\n",
    "        expected = y[test]\n",
    "        resultSum=estimator.score(df_norm[test], y[test])\n",
    "        counter+=1\n",
    "    return resultSum/counter,"
   ]
  },
  {
   "cell_type": "code",
   "execution_count": 337,
   "metadata": {},
   "outputs": [
    {
     "name": "stderr",
     "output_type": "stream",
     "text": [
      "C:\\Users\\dtms\\anaconda3\\lib\\site-packages\\deap\\creator.py:138: RuntimeWarning: A class named 'FitnessMax' has already been created and it will be overwritten. Consider deleting previous creation of that class or rename it.\n",
      "  warnings.warn(\"A class named '{0}' has already been created and it \"\n",
      "C:\\Users\\dtms\\anaconda3\\lib\\site-packages\\deap\\creator.py:138: RuntimeWarning: A class named 'Individual' has already been created and it will be overwritten. Consider deleting previous creation of that class or rename it.\n",
      "  warnings.warn(\"A class named '{0}' has already been created and it \"\n"
     ]
    },
    {
     "name": "stdout",
     "output_type": "stream",
     "text": [
      "-- Generation 1 --\n",
      "  Min 0.16330326773561848\n",
      "  Max 0.1979619848963245\n",
      "  Avg 0.18996746932910988\n",
      "  Std 0.010922680763909266\n",
      "Best individual is [200, 'mse', None, 2, 2, 0.0, 'sqrt', 0, 0, 0, 1, 0, 0, 0, 1, 1, 0, 0, 0], (0.1979619848963245,)\n",
      "-- Generation 2 --\n",
      "  Min 0.1821588069493208\n",
      "  Max 0.19800078802250115\n",
      "  Avg 0.19706928199680426\n",
      "  Std 0.0022803553140210917\n",
      "Best individual is [50, 'mse', None, 2, 2, 0.0, 'sqrt', 0, 0, 0, 1, 0, 0, 0, 0, 1, 0, 0, 0], (0.19800078802250115,)\n",
      "-- Generation 3 --\n",
      "  Min 0.19421619709227458\n",
      "  Max 0.1981049501688209\n",
      "  Avg 0.19777590987688778\n",
      "  Std 0.00037058211383390795\n",
      "Best individual is [500, 'mse', None, 16, 2, 0.0, 'sqrt', 0, 1, 0, 0, 0, 1, 1, 1, 1, 1, 1, 1], (0.1981049501688209,)\n",
      "-- Generation 4 --\n",
      "  Min 0.17013877129157548\n",
      "  Max 0.1981049501688209\n",
      "  Avg 0.19760402260247317\n",
      "  Std 0.0027612376795321555\n",
      "Best individual is [500, 'mse', None, 16, 2, 0.0, 'sqrt', 0, 1, 0, 0, 0, 1, 1, 1, 1, 1, 1, 1], (0.1981049501688209,)\n",
      "-- Generation 5 --\n"
     ]
    },
    {
     "ename": "KeyboardInterrupt",
     "evalue": "",
     "output_type": "error",
     "traceback": [
      "\u001b[1;31m---------------------------------------------------------------------------\u001b[0m",
      "\u001b[1;31mKeyboardInterrupt\u001b[0m                         Traceback (most recent call last)",
      "\u001b[1;32m<ipython-input-337-cad049a9a36c>\u001b[0m in \u001b[0;36m<module>\u001b[1;34m\u001b[0m\n\u001b[0;32m      8\u001b[0m \u001b[0melitism\u001b[0m \u001b[1;33m=\u001b[0m \u001b[1;32mFalse\u001b[0m\u001b[1;33m\u001b[0m\u001b[1;33m\u001b[0m\u001b[0m\n\u001b[0;32m      9\u001b[0m \u001b[0mverbose\u001b[0m \u001b[1;33m=\u001b[0m \u001b[1;36m7\u001b[0m\u001b[1;33m\u001b[0m\u001b[1;33m\u001b[0m\u001b[0m\n\u001b[1;32m---> 10\u001b[1;33m \u001b[0mrun\u001b[0m\u001b[1;33m(\u001b[0m\u001b[0mfitness\u001b[0m\u001b[1;33m,\u001b[0m \u001b[0mparameters\u001b[0m\u001b[1;33m,\u001b[0m \u001b[0mmutation\u001b[0m\u001b[1;33m,\u001b[0m \u001b[0mselection\u001b[0m \u001b[1;33m,\u001b[0m \u001b[0mmate\u001b[0m \u001b[1;33m,\u001b[0m \u001b[0melitism\u001b[0m\u001b[1;33m,\u001b[0m \u001b[0mverbose\u001b[0m\u001b[1;33m)\u001b[0m\u001b[1;33m\u001b[0m\u001b[1;33m\u001b[0m\u001b[0m\n\u001b[0m",
      "\u001b[1;32m<ipython-input-306-8efdb90d42b9>\u001b[0m in \u001b[0;36mrun\u001b[1;34m(fitness, parameters, mutation, selection, mate, elitism, verbose)\u001b[0m\n\u001b[0;32m      2\u001b[0m     \u001b[0mtoolbox\u001b[0m \u001b[1;33m=\u001b[0m \u001b[0mconfigureDeap\u001b[0m\u001b[1;33m(\u001b[0m\u001b[0mfitness\u001b[0m\u001b[1;33m,\u001b[0m \u001b[0mparameters\u001b[0m\u001b[1;33m,\u001b[0m \u001b[0mmutation\u001b[0m\u001b[1;33m,\u001b[0m \u001b[0mselection\u001b[0m\u001b[1;33m,\u001b[0m \u001b[0mmate\u001b[0m\u001b[1;33m)\u001b[0m\u001b[1;33m\u001b[0m\u001b[1;33m\u001b[0m\u001b[0m\n\u001b[0;32m      3\u001b[0m     \u001b[0mpopulation\u001b[0m \u001b[1;33m=\u001b[0m \u001b[0minitPopulation\u001b[0m\u001b[1;33m(\u001b[0m\u001b[0mtoolbox\u001b[0m\u001b[1;33m)\u001b[0m\u001b[1;33m\u001b[0m\u001b[1;33m\u001b[0m\u001b[0m\n\u001b[1;32m----> 4\u001b[1;33m     \u001b[0mstats\u001b[0m \u001b[1;33m=\u001b[0m \u001b[0mstartOptimizationLoop\u001b[0m\u001b[1;33m(\u001b[0m\u001b[0mtoolbox\u001b[0m\u001b[1;33m,\u001b[0m \u001b[0mpopulation\u001b[0m\u001b[1;33m,\u001b[0m \u001b[0melitism\u001b[0m\u001b[1;33m,\u001b[0m \u001b[0mverbose\u001b[0m\u001b[1;33m)\u001b[0m\u001b[1;33m\u001b[0m\u001b[1;33m\u001b[0m\u001b[0m\n\u001b[0m\u001b[0;32m      5\u001b[0m     \u001b[0mplotResults\u001b[0m\u001b[1;33m(\u001b[0m\u001b[0mstats\u001b[0m\u001b[1;33m)\u001b[0m\u001b[1;33m\u001b[0m\u001b[1;33m\u001b[0m\u001b[0m\n",
      "\u001b[1;32m<ipython-input-305-fd399ea0d8e3>\u001b[0m in \u001b[0;36mstartOptimizationLoop\u001b[1;34m(toolbox, population, elitism, verbose)\u001b[0m\n\u001b[0;32m     14\u001b[0m         \u001b[0moffspring\u001b[0m \u001b[1;33m=\u001b[0m \u001b[0mcrossover\u001b[0m\u001b[1;33m(\u001b[0m\u001b[0mtoolbox\u001b[0m\u001b[1;33m,\u001b[0m \u001b[0moffspring\u001b[0m\u001b[1;33m)\u001b[0m\u001b[1;33m\u001b[0m\u001b[1;33m\u001b[0m\u001b[0m\n\u001b[0;32m     15\u001b[0m         \u001b[0moffspring\u001b[0m \u001b[1;33m=\u001b[0m \u001b[0mmutate\u001b[0m\u001b[1;33m(\u001b[0m\u001b[0mtoolbox\u001b[0m\u001b[1;33m,\u001b[0m \u001b[0moffspring\u001b[0m\u001b[1;33m)\u001b[0m\u001b[1;33m\u001b[0m\u001b[1;33m\u001b[0m\u001b[0m\n\u001b[1;32m---> 16\u001b[1;33m         \u001b[0moffspring\u001b[0m \u001b[1;33m=\u001b[0m \u001b[0mevaluate\u001b[0m\u001b[1;33m(\u001b[0m\u001b[0mtoolbox\u001b[0m\u001b[1;33m,\u001b[0m \u001b[0moffspring\u001b[0m\u001b[1;33m)\u001b[0m\u001b[1;33m\u001b[0m\u001b[1;33m\u001b[0m\u001b[0m\n\u001b[0m\u001b[0;32m     17\u001b[0m         \u001b[0mduration\u001b[0m \u001b[1;33m=\u001b[0m \u001b[0mtimer\u001b[0m\u001b[1;33m(\u001b[0m\u001b[1;33m)\u001b[0m\u001b[1;33m-\u001b[0m\u001b[0mstart\u001b[0m\u001b[1;33m\u001b[0m\u001b[1;33m\u001b[0m\u001b[0m\n\u001b[0;32m     18\u001b[0m \u001b[1;33m\u001b[0m\u001b[0m\n",
      "\u001b[1;32m<ipython-input-299-ec1d7662cd69>\u001b[0m in \u001b[0;36mevaluate\u001b[1;34m(toolbox, offspring, verbose)\u001b[0m\n\u001b[0;32m      3\u001b[0m     \u001b[0mnew_individuals\u001b[0m \u001b[1;33m=\u001b[0m \u001b[1;33m[\u001b[0m\u001b[0mind\u001b[0m \u001b[1;32mfor\u001b[0m \u001b[0mind\u001b[0m \u001b[1;32min\u001b[0m \u001b[0moffspring\u001b[0m \u001b[1;32mif\u001b[0m \u001b[1;32mnot\u001b[0m \u001b[0mind\u001b[0m\u001b[1;33m.\u001b[0m\u001b[0mfitness\u001b[0m\u001b[1;33m.\u001b[0m\u001b[0mvalid\u001b[0m\u001b[1;33m]\u001b[0m\u001b[1;33m\u001b[0m\u001b[1;33m\u001b[0m\u001b[0m\n\u001b[0;32m      4\u001b[0m     \u001b[0mnew_fitnesses\u001b[0m \u001b[1;33m=\u001b[0m \u001b[0mmap\u001b[0m\u001b[1;33m(\u001b[0m\u001b[0mtoolbox\u001b[0m\u001b[1;33m.\u001b[0m\u001b[0mevaluate\u001b[0m\u001b[1;33m,\u001b[0m \u001b[0mnew_individuals\u001b[0m\u001b[1;33m)\u001b[0m\u001b[1;33m\u001b[0m\u001b[1;33m\u001b[0m\u001b[0m\n\u001b[1;32m----> 5\u001b[1;33m     \u001b[1;32mfor\u001b[0m \u001b[0mind\u001b[0m\u001b[1;33m,\u001b[0m \u001b[0mfit\u001b[0m \u001b[1;32min\u001b[0m \u001b[0mzip\u001b[0m\u001b[1;33m(\u001b[0m\u001b[0mnew_individuals\u001b[0m\u001b[1;33m,\u001b[0m \u001b[0mnew_fitnesses\u001b[0m\u001b[1;33m)\u001b[0m\u001b[1;33m:\u001b[0m\u001b[1;33m\u001b[0m\u001b[1;33m\u001b[0m\u001b[0m\n\u001b[0m\u001b[0;32m      6\u001b[0m         \u001b[0mind\u001b[0m\u001b[1;33m.\u001b[0m\u001b[0mfitness\u001b[0m\u001b[1;33m.\u001b[0m\u001b[0mvalues\u001b[0m \u001b[1;33m=\u001b[0m \u001b[0mfit\u001b[0m\u001b[1;33m\u001b[0m\u001b[1;33m\u001b[0m\u001b[0m\n\u001b[0;32m      7\u001b[0m \u001b[1;33m\u001b[0m\u001b[0m\n",
      "\u001b[1;32m<ipython-input-336-c106cba34a61>\u001b[0m in \u001b[0;36mparametersFitnessFeaturesRFR\u001b[1;34m(y, df, numberOfAtributtes, individual)\u001b[0m\n\u001b[0;32m     26\u001b[0m     \u001b[0mcounter\u001b[0m \u001b[1;33m=\u001b[0m \u001b[1;36m0\u001b[0m\u001b[1;33m\u001b[0m\u001b[1;33m\u001b[0m\u001b[0m\n\u001b[0;32m     27\u001b[0m     \u001b[1;32mfor\u001b[0m \u001b[0mtrain\u001b[0m\u001b[1;33m,\u001b[0m \u001b[0mtest\u001b[0m \u001b[1;32min\u001b[0m \u001b[0mkf\u001b[0m\u001b[1;33m.\u001b[0m\u001b[0msplit\u001b[0m\u001b[1;33m(\u001b[0m\u001b[0mdf_norm\u001b[0m\u001b[1;33m)\u001b[0m\u001b[1;33m:\u001b[0m\u001b[1;33m\u001b[0m\u001b[1;33m\u001b[0m\u001b[0m\n\u001b[1;32m---> 28\u001b[1;33m         \u001b[0mestimator\u001b[0m\u001b[1;33m.\u001b[0m\u001b[0mfit\u001b[0m\u001b[1;33m(\u001b[0m\u001b[0mdf_norm\u001b[0m\u001b[1;33m[\u001b[0m\u001b[0mtrain\u001b[0m\u001b[1;33m]\u001b[0m\u001b[1;33m,\u001b[0m \u001b[0my\u001b[0m\u001b[1;33m[\u001b[0m\u001b[0mtrain\u001b[0m\u001b[1;33m]\u001b[0m\u001b[1;33m)\u001b[0m\u001b[1;33m\u001b[0m\u001b[1;33m\u001b[0m\u001b[0m\n\u001b[0m\u001b[0;32m     29\u001b[0m         \u001b[0mpredicted\u001b[0m \u001b[1;33m=\u001b[0m \u001b[0mestimator\u001b[0m\u001b[1;33m.\u001b[0m\u001b[0mpredict\u001b[0m\u001b[1;33m(\u001b[0m\u001b[0mdf_norm\u001b[0m\u001b[1;33m[\u001b[0m\u001b[0mtest\u001b[0m\u001b[1;33m]\u001b[0m\u001b[1;33m)\u001b[0m\u001b[1;33m\u001b[0m\u001b[1;33m\u001b[0m\u001b[0m\n\u001b[0;32m     30\u001b[0m         \u001b[0mexpected\u001b[0m \u001b[1;33m=\u001b[0m \u001b[0my\u001b[0m\u001b[1;33m[\u001b[0m\u001b[0mtest\u001b[0m\u001b[1;33m]\u001b[0m\u001b[1;33m\u001b[0m\u001b[1;33m\u001b[0m\u001b[0m\n",
      "\u001b[1;32m~\\anaconda3\\lib\\site-packages\\sklearn\\ensemble\\_forest.py\u001b[0m in \u001b[0;36mfit\u001b[1;34m(self, X, y, sample_weight)\u001b[0m\n\u001b[0;32m    384\u001b[0m             \u001b[1;31m# parallel_backend contexts set at a higher level,\u001b[0m\u001b[1;33m\u001b[0m\u001b[1;33m\u001b[0m\u001b[1;33m\u001b[0m\u001b[0m\n\u001b[0;32m    385\u001b[0m             \u001b[1;31m# since correctness does not rely on using threads.\u001b[0m\u001b[1;33m\u001b[0m\u001b[1;33m\u001b[0m\u001b[1;33m\u001b[0m\u001b[0m\n\u001b[1;32m--> 386\u001b[1;33m             trees = Parallel(n_jobs=self.n_jobs, verbose=self.verbose,\n\u001b[0m\u001b[0;32m    387\u001b[0m                              \u001b[1;33m**\u001b[0m\u001b[0m_joblib_parallel_args\u001b[0m\u001b[1;33m(\u001b[0m\u001b[0mprefer\u001b[0m\u001b[1;33m=\u001b[0m\u001b[1;34m'threads'\u001b[0m\u001b[1;33m)\u001b[0m\u001b[1;33m)\u001b[0m\u001b[1;33m(\u001b[0m\u001b[1;33m\u001b[0m\u001b[1;33m\u001b[0m\u001b[0m\n\u001b[0;32m    388\u001b[0m                 delayed(_parallel_build_trees)(\n",
      "\u001b[1;32m~\\anaconda3\\lib\\site-packages\\joblib\\parallel.py\u001b[0m in \u001b[0;36m__call__\u001b[1;34m(self, iterable)\u001b[0m\n\u001b[0;32m   1059\u001b[0m \u001b[1;33m\u001b[0m\u001b[0m\n\u001b[0;32m   1060\u001b[0m             \u001b[1;32mwith\u001b[0m \u001b[0mself\u001b[0m\u001b[1;33m.\u001b[0m\u001b[0m_backend\u001b[0m\u001b[1;33m.\u001b[0m\u001b[0mretrieval_context\u001b[0m\u001b[1;33m(\u001b[0m\u001b[1;33m)\u001b[0m\u001b[1;33m:\u001b[0m\u001b[1;33m\u001b[0m\u001b[1;33m\u001b[0m\u001b[0m\n\u001b[1;32m-> 1061\u001b[1;33m                 \u001b[0mself\u001b[0m\u001b[1;33m.\u001b[0m\u001b[0mretrieve\u001b[0m\u001b[1;33m(\u001b[0m\u001b[1;33m)\u001b[0m\u001b[1;33m\u001b[0m\u001b[1;33m\u001b[0m\u001b[0m\n\u001b[0m\u001b[0;32m   1062\u001b[0m             \u001b[1;31m# Make sure that we get a last message telling us we are done\u001b[0m\u001b[1;33m\u001b[0m\u001b[1;33m\u001b[0m\u001b[1;33m\u001b[0m\u001b[0m\n\u001b[0;32m   1063\u001b[0m             \u001b[0melapsed_time\u001b[0m \u001b[1;33m=\u001b[0m \u001b[0mtime\u001b[0m\u001b[1;33m.\u001b[0m\u001b[0mtime\u001b[0m\u001b[1;33m(\u001b[0m\u001b[1;33m)\u001b[0m \u001b[1;33m-\u001b[0m \u001b[0mself\u001b[0m\u001b[1;33m.\u001b[0m\u001b[0m_start_time\u001b[0m\u001b[1;33m\u001b[0m\u001b[1;33m\u001b[0m\u001b[0m\n",
      "\u001b[1;32m~\\anaconda3\\lib\\site-packages\\joblib\\parallel.py\u001b[0m in \u001b[0;36mretrieve\u001b[1;34m(self)\u001b[0m\n\u001b[0;32m    938\u001b[0m             \u001b[1;32mtry\u001b[0m\u001b[1;33m:\u001b[0m\u001b[1;33m\u001b[0m\u001b[1;33m\u001b[0m\u001b[0m\n\u001b[0;32m    939\u001b[0m                 \u001b[1;32mif\u001b[0m \u001b[0mgetattr\u001b[0m\u001b[1;33m(\u001b[0m\u001b[0mself\u001b[0m\u001b[1;33m.\u001b[0m\u001b[0m_backend\u001b[0m\u001b[1;33m,\u001b[0m \u001b[1;34m'supports_timeout'\u001b[0m\u001b[1;33m,\u001b[0m \u001b[1;32mFalse\u001b[0m\u001b[1;33m)\u001b[0m\u001b[1;33m:\u001b[0m\u001b[1;33m\u001b[0m\u001b[1;33m\u001b[0m\u001b[0m\n\u001b[1;32m--> 940\u001b[1;33m                     \u001b[0mself\u001b[0m\u001b[1;33m.\u001b[0m\u001b[0m_output\u001b[0m\u001b[1;33m.\u001b[0m\u001b[0mextend\u001b[0m\u001b[1;33m(\u001b[0m\u001b[0mjob\u001b[0m\u001b[1;33m.\u001b[0m\u001b[0mget\u001b[0m\u001b[1;33m(\u001b[0m\u001b[0mtimeout\u001b[0m\u001b[1;33m=\u001b[0m\u001b[0mself\u001b[0m\u001b[1;33m.\u001b[0m\u001b[0mtimeout\u001b[0m\u001b[1;33m)\u001b[0m\u001b[1;33m)\u001b[0m\u001b[1;33m\u001b[0m\u001b[1;33m\u001b[0m\u001b[0m\n\u001b[0m\u001b[0;32m    941\u001b[0m                 \u001b[1;32melse\u001b[0m\u001b[1;33m:\u001b[0m\u001b[1;33m\u001b[0m\u001b[1;33m\u001b[0m\u001b[0m\n\u001b[0;32m    942\u001b[0m                     \u001b[0mself\u001b[0m\u001b[1;33m.\u001b[0m\u001b[0m_output\u001b[0m\u001b[1;33m.\u001b[0m\u001b[0mextend\u001b[0m\u001b[1;33m(\u001b[0m\u001b[0mjob\u001b[0m\u001b[1;33m.\u001b[0m\u001b[0mget\u001b[0m\u001b[1;33m(\u001b[0m\u001b[1;33m)\u001b[0m\u001b[1;33m)\u001b[0m\u001b[1;33m\u001b[0m\u001b[1;33m\u001b[0m\u001b[0m\n",
      "\u001b[1;32m~\\anaconda3\\lib\\multiprocessing\\pool.py\u001b[0m in \u001b[0;36mget\u001b[1;34m(self, timeout)\u001b[0m\n\u001b[0;32m    763\u001b[0m \u001b[1;33m\u001b[0m\u001b[0m\n\u001b[0;32m    764\u001b[0m     \u001b[1;32mdef\u001b[0m \u001b[0mget\u001b[0m\u001b[1;33m(\u001b[0m\u001b[0mself\u001b[0m\u001b[1;33m,\u001b[0m \u001b[0mtimeout\u001b[0m\u001b[1;33m=\u001b[0m\u001b[1;32mNone\u001b[0m\u001b[1;33m)\u001b[0m\u001b[1;33m:\u001b[0m\u001b[1;33m\u001b[0m\u001b[1;33m\u001b[0m\u001b[0m\n\u001b[1;32m--> 765\u001b[1;33m         \u001b[0mself\u001b[0m\u001b[1;33m.\u001b[0m\u001b[0mwait\u001b[0m\u001b[1;33m(\u001b[0m\u001b[0mtimeout\u001b[0m\u001b[1;33m)\u001b[0m\u001b[1;33m\u001b[0m\u001b[1;33m\u001b[0m\u001b[0m\n\u001b[0m\u001b[0;32m    766\u001b[0m         \u001b[1;32mif\u001b[0m \u001b[1;32mnot\u001b[0m \u001b[0mself\u001b[0m\u001b[1;33m.\u001b[0m\u001b[0mready\u001b[0m\u001b[1;33m(\u001b[0m\u001b[1;33m)\u001b[0m\u001b[1;33m:\u001b[0m\u001b[1;33m\u001b[0m\u001b[1;33m\u001b[0m\u001b[0m\n\u001b[0;32m    767\u001b[0m             \u001b[1;32mraise\u001b[0m \u001b[0mTimeoutError\u001b[0m\u001b[1;33m\u001b[0m\u001b[1;33m\u001b[0m\u001b[0m\n",
      "\u001b[1;32m~\\anaconda3\\lib\\multiprocessing\\pool.py\u001b[0m in \u001b[0;36mwait\u001b[1;34m(self, timeout)\u001b[0m\n\u001b[0;32m    760\u001b[0m \u001b[1;33m\u001b[0m\u001b[0m\n\u001b[0;32m    761\u001b[0m     \u001b[1;32mdef\u001b[0m \u001b[0mwait\u001b[0m\u001b[1;33m(\u001b[0m\u001b[0mself\u001b[0m\u001b[1;33m,\u001b[0m \u001b[0mtimeout\u001b[0m\u001b[1;33m=\u001b[0m\u001b[1;32mNone\u001b[0m\u001b[1;33m)\u001b[0m\u001b[1;33m:\u001b[0m\u001b[1;33m\u001b[0m\u001b[1;33m\u001b[0m\u001b[0m\n\u001b[1;32m--> 762\u001b[1;33m         \u001b[0mself\u001b[0m\u001b[1;33m.\u001b[0m\u001b[0m_event\u001b[0m\u001b[1;33m.\u001b[0m\u001b[0mwait\u001b[0m\u001b[1;33m(\u001b[0m\u001b[0mtimeout\u001b[0m\u001b[1;33m)\u001b[0m\u001b[1;33m\u001b[0m\u001b[1;33m\u001b[0m\u001b[0m\n\u001b[0m\u001b[0;32m    763\u001b[0m \u001b[1;33m\u001b[0m\u001b[0m\n\u001b[0;32m    764\u001b[0m     \u001b[1;32mdef\u001b[0m \u001b[0mget\u001b[0m\u001b[1;33m(\u001b[0m\u001b[0mself\u001b[0m\u001b[1;33m,\u001b[0m \u001b[0mtimeout\u001b[0m\u001b[1;33m=\u001b[0m\u001b[1;32mNone\u001b[0m\u001b[1;33m)\u001b[0m\u001b[1;33m:\u001b[0m\u001b[1;33m\u001b[0m\u001b[1;33m\u001b[0m\u001b[0m\n",
      "\u001b[1;32m~\\anaconda3\\lib\\threading.py\u001b[0m in \u001b[0;36mwait\u001b[1;34m(self, timeout)\u001b[0m\n\u001b[0;32m    556\u001b[0m             \u001b[0msignaled\u001b[0m \u001b[1;33m=\u001b[0m \u001b[0mself\u001b[0m\u001b[1;33m.\u001b[0m\u001b[0m_flag\u001b[0m\u001b[1;33m\u001b[0m\u001b[1;33m\u001b[0m\u001b[0m\n\u001b[0;32m    557\u001b[0m             \u001b[1;32mif\u001b[0m \u001b[1;32mnot\u001b[0m \u001b[0msignaled\u001b[0m\u001b[1;33m:\u001b[0m\u001b[1;33m\u001b[0m\u001b[1;33m\u001b[0m\u001b[0m\n\u001b[1;32m--> 558\u001b[1;33m                 \u001b[0msignaled\u001b[0m \u001b[1;33m=\u001b[0m \u001b[0mself\u001b[0m\u001b[1;33m.\u001b[0m\u001b[0m_cond\u001b[0m\u001b[1;33m.\u001b[0m\u001b[0mwait\u001b[0m\u001b[1;33m(\u001b[0m\u001b[0mtimeout\u001b[0m\u001b[1;33m)\u001b[0m\u001b[1;33m\u001b[0m\u001b[1;33m\u001b[0m\u001b[0m\n\u001b[0m\u001b[0;32m    559\u001b[0m             \u001b[1;32mreturn\u001b[0m \u001b[0msignaled\u001b[0m\u001b[1;33m\u001b[0m\u001b[1;33m\u001b[0m\u001b[0m\n\u001b[0;32m    560\u001b[0m \u001b[1;33m\u001b[0m\u001b[0m\n",
      "\u001b[1;32m~\\anaconda3\\lib\\threading.py\u001b[0m in \u001b[0;36mwait\u001b[1;34m(self, timeout)\u001b[0m\n\u001b[0;32m    300\u001b[0m         \u001b[1;32mtry\u001b[0m\u001b[1;33m:\u001b[0m    \u001b[1;31m# restore state no matter what (e.g., KeyboardInterrupt)\u001b[0m\u001b[1;33m\u001b[0m\u001b[1;33m\u001b[0m\u001b[0m\n\u001b[0;32m    301\u001b[0m             \u001b[1;32mif\u001b[0m \u001b[0mtimeout\u001b[0m \u001b[1;32mis\u001b[0m \u001b[1;32mNone\u001b[0m\u001b[1;33m:\u001b[0m\u001b[1;33m\u001b[0m\u001b[1;33m\u001b[0m\u001b[0m\n\u001b[1;32m--> 302\u001b[1;33m                 \u001b[0mwaiter\u001b[0m\u001b[1;33m.\u001b[0m\u001b[0macquire\u001b[0m\u001b[1;33m(\u001b[0m\u001b[1;33m)\u001b[0m\u001b[1;33m\u001b[0m\u001b[1;33m\u001b[0m\u001b[0m\n\u001b[0m\u001b[0;32m    303\u001b[0m                 \u001b[0mgotit\u001b[0m \u001b[1;33m=\u001b[0m \u001b[1;32mTrue\u001b[0m\u001b[1;33m\u001b[0m\u001b[1;33m\u001b[0m\u001b[0m\n\u001b[0;32m    304\u001b[0m             \u001b[1;32melse\u001b[0m\u001b[1;33m:\u001b[0m\u001b[1;33m\u001b[0m\u001b[1;33m\u001b[0m\u001b[0m\n",
      "\u001b[1;31mKeyboardInterrupt\u001b[0m: "
     ]
    }
   ],
   "source": [
    "# scenario 0 (tournament, cxTwoPoint, with elitism, 100 epochs, 100 individuals in initpopulation):\n",
    "selection={'function':tools.selTournament, 'tournsize':3} \n",
    "mate={'function':tools.cxTwoPoint}\n",
    "\n",
    "parameters=parametersFeaturesRFR\n",
    "fitness=parametersFitnessFeaturesRFR\n",
    "mutation=mutationFeaturesRFR\n",
    "elitism = False\n",
    "verbose = 7\n",
    "run(fitness, parameters, mutation, selection , mate , elitism, verbose)"
   ]
  },
  {
   "cell_type": "raw",
   "metadata": {},
   "source": [
    "Best found individual: (x1,x2) = [96, 'entropy', None, 9, 2, 0.0, 'sqrt', 0, 1, 0, 1, 1, 1, 1, 0, 0, 1, 1, 0, 0, 0, 1, 1, 0, 1, 0, 0, 1, 0, 0, 1, 0, 1, 0, 0, 0, 1, 1, 1, 1, 1, 1, 1, 1, 0, 1, 0, 1, 1, 1, 0, 0] , y = 0.8125"
   ]
  },
  {
   "cell_type": "code",
   "execution_count": null,
   "metadata": {},
   "outputs": [],
   "source": []
  }
 ],
 "metadata": {
  "kernelspec": {
   "display_name": "Python 3",
   "language": "python",
   "name": "python3"
  },
  "language_info": {
   "codemirror_mode": {
    "name": "ipython",
    "version": 3
   },
   "file_extension": ".py",
   "mimetype": "text/x-python",
   "name": "python",
   "nbconvert_exporter": "python",
   "pygments_lexer": "ipython3",
   "version": "3.8.5"
  }
 },
 "nbformat": 4,
 "nbformat_minor": 4
}
