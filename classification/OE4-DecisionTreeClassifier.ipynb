{
 "cells": [
  {
   "cell_type": "markdown",
   "metadata": {},
   "source": [
    "# Wykorzystanie biblioteki DEAP w problemie optymalizacji parametrów klasyfikatorów oraz selekcji cech"
   ]
  },
  {
   "cell_type": "markdown",
   "metadata": {},
   "source": [
    "### I Optymalizacja parametrów klasyfikatorów"
   ]
  },
  {
   "cell_type": "code",
   "execution_count": 1,
   "metadata": {},
   "outputs": [
    {
     "data": {
      "text/html": [
       "<div>\n",
       "<style scoped>\n",
       "    .dataframe tbody tr th:only-of-type {\n",
       "        vertical-align: middle;\n",
       "    }\n",
       "\n",
       "    .dataframe tbody tr th {\n",
       "        vertical-align: top;\n",
       "    }\n",
       "\n",
       "    .dataframe thead th {\n",
       "        text-align: right;\n",
       "    }\n",
       "</style>\n",
       "<table border=\"1\" class=\"dataframe\">\n",
       "  <thead>\n",
       "    <tr style=\"text-align: right;\">\n",
       "      <th></th>\n",
       "      <th>ID</th>\n",
       "      <th>Recording</th>\n",
       "      <th>Status</th>\n",
       "      <th>Gender</th>\n",
       "      <th>Jitter_rel</th>\n",
       "      <th>Jitter_abs</th>\n",
       "      <th>Jitter_RAP</th>\n",
       "      <th>Jitter_PPQ</th>\n",
       "      <th>Shim_loc</th>\n",
       "      <th>Shim_dB</th>\n",
       "      <th>Shim_APQ3</th>\n",
       "      <th>Shim_APQ5</th>\n",
       "      <th>Shi_APQ11</th>\n",
       "      <th>HNR05</th>\n",
       "      <th>HNR15</th>\n",
       "      <th>HNR25</th>\n",
       "      <th>HNR35</th>\n",
       "      <th>HNR38</th>\n",
       "      <th>RPDE</th>\n",
       "      <th>DFA</th>\n",
       "      <th>PPE</th>\n",
       "      <th>GNE</th>\n",
       "      <th>MFCC0</th>\n",
       "      <th>MFCC1</th>\n",
       "      <th>MFCC2</th>\n",
       "      <th>MFCC3</th>\n",
       "      <th>MFCC4</th>\n",
       "      <th>MFCC5</th>\n",
       "      <th>MFCC6</th>\n",
       "      <th>MFCC7</th>\n",
       "      <th>MFCC8</th>\n",
       "      <th>MFCC9</th>\n",
       "      <th>MFCC10</th>\n",
       "      <th>MFCC11</th>\n",
       "      <th>MFCC12</th>\n",
       "      <th>Delta0</th>\n",
       "      <th>Delta1</th>\n",
       "      <th>Delta2</th>\n",
       "      <th>Delta3</th>\n",
       "      <th>Delta4</th>\n",
       "      <th>Delta5</th>\n",
       "      <th>Delta6</th>\n",
       "      <th>Delta7</th>\n",
       "      <th>Delta8</th>\n",
       "      <th>Delta9</th>\n",
       "      <th>Delta10</th>\n",
       "      <th>Delta11</th>\n",
       "      <th>Delta12</th>\n",
       "    </tr>\n",
       "  </thead>\n",
       "  <tbody>\n",
       "    <tr>\n",
       "      <th>0</th>\n",
       "      <td>CONT-01</td>\n",
       "      <td>1</td>\n",
       "      <td>0</td>\n",
       "      <td>1</td>\n",
       "      <td>0.25546</td>\n",
       "      <td>0.000015</td>\n",
       "      <td>0.001467</td>\n",
       "      <td>0.001673</td>\n",
       "      <td>0.030256</td>\n",
       "      <td>0.26313</td>\n",
       "      <td>0.017463</td>\n",
       "      <td>0.019660</td>\n",
       "      <td>0.021882</td>\n",
       "      <td>59.437966</td>\n",
       "      <td>60.736249</td>\n",
       "      <td>71.882864</td>\n",
       "      <td>77.626729</td>\n",
       "      <td>77.538042</td>\n",
       "      <td>0.250433</td>\n",
       "      <td>0.599346</td>\n",
       "      <td>0.005397</td>\n",
       "      <td>0.900404</td>\n",
       "      <td>1.319502</td>\n",
       "      <td>1.336201</td>\n",
       "      <td>1.302408</td>\n",
       "      <td>1.329085</td>\n",
       "      <td>1.284922</td>\n",
       "      <td>1.209225</td>\n",
       "      <td>1.239354</td>\n",
       "      <td>1.277002</td>\n",
       "      <td>1.332503</td>\n",
       "      <td>1.347470</td>\n",
       "      <td>1.367540</td>\n",
       "      <td>1.402141</td>\n",
       "      <td>1.393809</td>\n",
       "      <td>1.397874</td>\n",
       "      <td>1.372464</td>\n",
       "      <td>1.390298</td>\n",
       "      <td>1.407701</td>\n",
       "      <td>1.417218</td>\n",
       "      <td>1.380352</td>\n",
       "      <td>1.420670</td>\n",
       "      <td>1.451240</td>\n",
       "      <td>1.440295</td>\n",
       "      <td>1.403678</td>\n",
       "      <td>1.405495</td>\n",
       "      <td>1.416705</td>\n",
       "      <td>1.354610</td>\n",
       "    </tr>\n",
       "    <tr>\n",
       "      <th>1</th>\n",
       "      <td>CONT-01</td>\n",
       "      <td>2</td>\n",
       "      <td>0</td>\n",
       "      <td>1</td>\n",
       "      <td>0.36964</td>\n",
       "      <td>0.000022</td>\n",
       "      <td>0.001932</td>\n",
       "      <td>0.002245</td>\n",
       "      <td>0.023146</td>\n",
       "      <td>0.20217</td>\n",
       "      <td>0.013010</td>\n",
       "      <td>0.014097</td>\n",
       "      <td>0.016828</td>\n",
       "      <td>59.838895</td>\n",
       "      <td>62.655599</td>\n",
       "      <td>74.378669</td>\n",
       "      <td>79.989228</td>\n",
       "      <td>80.269783</td>\n",
       "      <td>0.271445</td>\n",
       "      <td>0.581242</td>\n",
       "      <td>0.075617</td>\n",
       "      <td>0.887042</td>\n",
       "      <td>1.215251</td>\n",
       "      <td>1.221557</td>\n",
       "      <td>1.265419</td>\n",
       "      <td>1.187177</td>\n",
       "      <td>1.256340</td>\n",
       "      <td>1.246375</td>\n",
       "      <td>1.283629</td>\n",
       "      <td>1.302498</td>\n",
       "      <td>1.308008</td>\n",
       "      <td>1.316527</td>\n",
       "      <td>1.370643</td>\n",
       "      <td>1.373966</td>\n",
       "      <td>1.344655</td>\n",
       "      <td>1.302399</td>\n",
       "      <td>1.347680</td>\n",
       "      <td>1.365750</td>\n",
       "      <td>1.331232</td>\n",
       "      <td>1.227338</td>\n",
       "      <td>1.213377</td>\n",
       "      <td>1.352739</td>\n",
       "      <td>1.354242</td>\n",
       "      <td>1.365692</td>\n",
       "      <td>1.322870</td>\n",
       "      <td>1.314549</td>\n",
       "      <td>1.318999</td>\n",
       "      <td>1.323508</td>\n",
       "    </tr>\n",
       "    <tr>\n",
       "      <th>2</th>\n",
       "      <td>CONT-01</td>\n",
       "      <td>3</td>\n",
       "      <td>0</td>\n",
       "      <td>1</td>\n",
       "      <td>0.23514</td>\n",
       "      <td>0.000013</td>\n",
       "      <td>0.001353</td>\n",
       "      <td>0.001546</td>\n",
       "      <td>0.019338</td>\n",
       "      <td>0.16710</td>\n",
       "      <td>0.011049</td>\n",
       "      <td>0.012683</td>\n",
       "      <td>0.013038</td>\n",
       "      <td>57.293808</td>\n",
       "      <td>61.858336</td>\n",
       "      <td>73.665297</td>\n",
       "      <td>78.930502</td>\n",
       "      <td>79.033510</td>\n",
       "      <td>0.203531</td>\n",
       "      <td>0.600759</td>\n",
       "      <td>0.005283</td>\n",
       "      <td>0.889399</td>\n",
       "      <td>1.426075</td>\n",
       "      <td>1.220701</td>\n",
       "      <td>1.344188</td>\n",
       "      <td>1.346296</td>\n",
       "      <td>1.339797</td>\n",
       "      <td>1.334447</td>\n",
       "      <td>1.391798</td>\n",
       "      <td>1.349621</td>\n",
       "      <td>1.349904</td>\n",
       "      <td>1.340463</td>\n",
       "      <td>1.362594</td>\n",
       "      <td>1.313769</td>\n",
       "      <td>1.277938</td>\n",
       "      <td>1.312889</td>\n",
       "      <td>1.352442</td>\n",
       "      <td>1.243385</td>\n",
       "      <td>1.412304</td>\n",
       "      <td>1.324674</td>\n",
       "      <td>1.276088</td>\n",
       "      <td>1.429634</td>\n",
       "      <td>1.455996</td>\n",
       "      <td>1.368882</td>\n",
       "      <td>1.438053</td>\n",
       "      <td>1.388910</td>\n",
       "      <td>1.305469</td>\n",
       "      <td>1.305402</td>\n",
       "    </tr>\n",
       "    <tr>\n",
       "      <th>3</th>\n",
       "      <td>CONT-02</td>\n",
       "      <td>1</td>\n",
       "      <td>0</td>\n",
       "      <td>0</td>\n",
       "      <td>0.29320</td>\n",
       "      <td>0.000017</td>\n",
       "      <td>0.001105</td>\n",
       "      <td>0.001444</td>\n",
       "      <td>0.024716</td>\n",
       "      <td>0.20892</td>\n",
       "      <td>0.014525</td>\n",
       "      <td>0.015696</td>\n",
       "      <td>0.018330</td>\n",
       "      <td>62.179573</td>\n",
       "      <td>68.678205</td>\n",
       "      <td>79.839984</td>\n",
       "      <td>84.367682</td>\n",
       "      <td>84.252430</td>\n",
       "      <td>0.261360</td>\n",
       "      <td>0.625216</td>\n",
       "      <td>0.030518</td>\n",
       "      <td>0.875984</td>\n",
       "      <td>1.495235</td>\n",
       "      <td>1.602983</td>\n",
       "      <td>1.572715</td>\n",
       "      <td>1.498323</td>\n",
       "      <td>1.561722</td>\n",
       "      <td>1.590510</td>\n",
       "      <td>1.626319</td>\n",
       "      <td>1.645811</td>\n",
       "      <td>1.666730</td>\n",
       "      <td>1.618487</td>\n",
       "      <td>1.493691</td>\n",
       "      <td>1.459040</td>\n",
       "      <td>1.383606</td>\n",
       "      <td>1.379629</td>\n",
       "      <td>1.217517</td>\n",
       "      <td>1.309647</td>\n",
       "      <td>1.501200</td>\n",
       "      <td>1.534170</td>\n",
       "      <td>1.323993</td>\n",
       "      <td>1.496442</td>\n",
       "      <td>1.472926</td>\n",
       "      <td>1.643177</td>\n",
       "      <td>1.551286</td>\n",
       "      <td>1.638346</td>\n",
       "      <td>1.604008</td>\n",
       "      <td>1.621456</td>\n",
       "    </tr>\n",
       "    <tr>\n",
       "      <th>4</th>\n",
       "      <td>CONT-02</td>\n",
       "      <td>2</td>\n",
       "      <td>0</td>\n",
       "      <td>0</td>\n",
       "      <td>0.23075</td>\n",
       "      <td>0.000015</td>\n",
       "      <td>0.001073</td>\n",
       "      <td>0.001404</td>\n",
       "      <td>0.013119</td>\n",
       "      <td>0.11607</td>\n",
       "      <td>0.006461</td>\n",
       "      <td>0.008385</td>\n",
       "      <td>0.011037</td>\n",
       "      <td>67.534024</td>\n",
       "      <td>74.976858</td>\n",
       "      <td>85.727420</td>\n",
       "      <td>91.033967</td>\n",
       "      <td>91.145189</td>\n",
       "      <td>0.222069</td>\n",
       "      <td>0.602493</td>\n",
       "      <td>0.035602</td>\n",
       "      <td>0.902206</td>\n",
       "      <td>1.516959</td>\n",
       "      <td>1.581687</td>\n",
       "      <td>1.542668</td>\n",
       "      <td>1.613747</td>\n",
       "      <td>1.501956</td>\n",
       "      <td>1.258557</td>\n",
       "      <td>1.385013</td>\n",
       "      <td>1.452518</td>\n",
       "      <td>1.498049</td>\n",
       "      <td>1.421549</td>\n",
       "      <td>1.557644</td>\n",
       "      <td>1.187218</td>\n",
       "      <td>1.576015</td>\n",
       "      <td>1.252247</td>\n",
       "      <td>1.577338</td>\n",
       "      <td>1.583072</td>\n",
       "      <td>1.508468</td>\n",
       "      <td>1.334511</td>\n",
       "      <td>1.610694</td>\n",
       "      <td>1.685021</td>\n",
       "      <td>1.417614</td>\n",
       "      <td>1.574895</td>\n",
       "      <td>1.640088</td>\n",
       "      <td>1.533666</td>\n",
       "      <td>1.297536</td>\n",
       "      <td>1.382023</td>\n",
       "    </tr>\n",
       "  </tbody>\n",
       "</table>\n",
       "</div>"
      ],
      "text/plain": [
       "        ID  Recording  Status  Gender  Jitter_rel  Jitter_abs  Jitter_RAP  \\\n",
       "0  CONT-01          1       0       1     0.25546    0.000015    0.001467   \n",
       "1  CONT-01          2       0       1     0.36964    0.000022    0.001932   \n",
       "2  CONT-01          3       0       1     0.23514    0.000013    0.001353   \n",
       "3  CONT-02          1       0       0     0.29320    0.000017    0.001105   \n",
       "4  CONT-02          2       0       0     0.23075    0.000015    0.001073   \n",
       "\n",
       "   Jitter_PPQ  Shim_loc  Shim_dB  Shim_APQ3  Shim_APQ5  Shi_APQ11      HNR05  \\\n",
       "0    0.001673  0.030256  0.26313   0.017463   0.019660   0.021882  59.437966   \n",
       "1    0.002245  0.023146  0.20217   0.013010   0.014097   0.016828  59.838895   \n",
       "2    0.001546  0.019338  0.16710   0.011049   0.012683   0.013038  57.293808   \n",
       "3    0.001444  0.024716  0.20892   0.014525   0.015696   0.018330  62.179573   \n",
       "4    0.001404  0.013119  0.11607   0.006461   0.008385   0.011037  67.534024   \n",
       "\n",
       "       HNR15      HNR25      HNR35      HNR38      RPDE       DFA       PPE  \\\n",
       "0  60.736249  71.882864  77.626729  77.538042  0.250433  0.599346  0.005397   \n",
       "1  62.655599  74.378669  79.989228  80.269783  0.271445  0.581242  0.075617   \n",
       "2  61.858336  73.665297  78.930502  79.033510  0.203531  0.600759  0.005283   \n",
       "3  68.678205  79.839984  84.367682  84.252430  0.261360  0.625216  0.030518   \n",
       "4  74.976858  85.727420  91.033967  91.145189  0.222069  0.602493  0.035602   \n",
       "\n",
       "        GNE     MFCC0     MFCC1     MFCC2     MFCC3     MFCC4     MFCC5  \\\n",
       "0  0.900404  1.319502  1.336201  1.302408  1.329085  1.284922  1.209225   \n",
       "1  0.887042  1.215251  1.221557  1.265419  1.187177  1.256340  1.246375   \n",
       "2  0.889399  1.426075  1.220701  1.344188  1.346296  1.339797  1.334447   \n",
       "3  0.875984  1.495235  1.602983  1.572715  1.498323  1.561722  1.590510   \n",
       "4  0.902206  1.516959  1.581687  1.542668  1.613747  1.501956  1.258557   \n",
       "\n",
       "      MFCC6     MFCC7     MFCC8     MFCC9    MFCC10    MFCC11    MFCC12  \\\n",
       "0  1.239354  1.277002  1.332503  1.347470  1.367540  1.402141  1.393809   \n",
       "1  1.283629  1.302498  1.308008  1.316527  1.370643  1.373966  1.344655   \n",
       "2  1.391798  1.349621  1.349904  1.340463  1.362594  1.313769  1.277938   \n",
       "3  1.626319  1.645811  1.666730  1.618487  1.493691  1.459040  1.383606   \n",
       "4  1.385013  1.452518  1.498049  1.421549  1.557644  1.187218  1.576015   \n",
       "\n",
       "     Delta0    Delta1    Delta2    Delta3    Delta4    Delta5    Delta6  \\\n",
       "0  1.397874  1.372464  1.390298  1.407701  1.417218  1.380352  1.420670   \n",
       "1  1.302399  1.347680  1.365750  1.331232  1.227338  1.213377  1.352739   \n",
       "2  1.312889  1.352442  1.243385  1.412304  1.324674  1.276088  1.429634   \n",
       "3  1.379629  1.217517  1.309647  1.501200  1.534170  1.323993  1.496442   \n",
       "4  1.252247  1.577338  1.583072  1.508468  1.334511  1.610694  1.685021   \n",
       "\n",
       "     Delta7    Delta8    Delta9   Delta10   Delta11   Delta12  \n",
       "0  1.451240  1.440295  1.403678  1.405495  1.416705  1.354610  \n",
       "1  1.354242  1.365692  1.322870  1.314549  1.318999  1.323508  \n",
       "2  1.455996  1.368882  1.438053  1.388910  1.305469  1.305402  \n",
       "3  1.472926  1.643177  1.551286  1.638346  1.604008  1.621456  \n",
       "4  1.417614  1.574895  1.640088  1.533666  1.297536  1.382023  "
      ]
     },
     "execution_count": 1,
     "metadata": {},
     "output_type": "execute_result"
    }
   ],
   "source": [
    "# loading data\n",
    "import pandas as pd\n",
    "pd.set_option('display.max_columns', None)\n",
    "df=pd.read_csv(\"ReplicatedAcousticFeatures-ParkinsonDatabase.csv\",sep=',')\n",
    "\n",
    "df.head()"
   ]
  },
  {
   "cell_type": "code",
   "execution_count": 2,
   "metadata": {},
   "outputs": [
    {
     "name": "stdout",
     "output_type": "stream",
     "text": [
      "45\n"
     ]
    }
   ],
   "source": [
    "# Preprocessing\n",
    "y=df['Status']\n",
    "df.drop('Status',axis=1,inplace=True)\n",
    "\n",
    "df.drop('ID',axis=1,inplace=True)\n",
    "df.drop('Recording',axis=1,inplace=True)\n",
    "\n",
    "numberOfAtributtes= len(df.columns)\n",
    "print(numberOfAtributtes)"
   ]
  },
  {
   "cell_type": "code",
   "execution_count": 3,
   "metadata": {},
   "outputs": [
    {
     "name": "stdout",
     "output_type": "stream",
     "text": [
      "0.725\n"
     ]
    }
   ],
   "source": [
    "# Classification using SVC with default parameters and 5x K-fold cross validation for all 45 features\n",
    "from sklearn import model_selection\n",
    "from sklearn.preprocessing import MinMaxScaler\n",
    "from sklearn.tree import DecisionTreeClassifier\n",
    "\n",
    "mms = MinMaxScaler()\n",
    "df_norm = mms.fit_transform(df)\n",
    "\n",
    "clf = DecisionTreeClassifier()\n",
    "scores = model_selection.cross_val_score(clf, df_norm, y, cv=5, scoring='accuracy', n_jobs=-1)\n",
    "print(scores.mean())"
   ]
  },
  {
   "cell_type": "code",
   "execution_count": 4,
   "metadata": {},
   "outputs": [
    {
     "name": "stdout",
     "output_type": "stream",
     "text": [
      "0.725\n"
     ]
    }
   ],
   "source": [
    "# Classification using SVC with default parameters and 5x K-fold cross validation for all 45 features\n",
    "from sklearn import model_selection\n",
    "from sklearn.preprocessing import MinMaxScaler\n",
    "from sklearn.pipeline import make_pipeline\n",
    "from sklearn.tree import DecisionTreeClassifier\n",
    "from sklearn.preprocessing import StandardScaler\n",
    "\n",
    "mms = MinMaxScaler()\n",
    "df_norm = mms.fit_transform(df)\n",
    "\n",
    "clf = DecisionTreeClassifier()\n",
    "pipe = make_pipeline(StandardScaler(), clf)\n",
    "scores = model_selection.cross_val_score(pipe, df_norm, y, cv=5, scoring='accuracy', n_jobs=-1)\n",
    "print(scores.mean())"
   ]
  },
  {
   "cell_type": "code",
   "execution_count": 75,
   "metadata": {},
   "outputs": [],
   "source": [
    "# Generationg new individual\n",
    "import random\n",
    "def parametersDTC(numberFeatures,icls):\n",
    "    genome = list()\n",
    "    \n",
    "    # criterion\n",
    "    criterion = ['gini', 'entropy']\n",
    "    genome.append(criterion[random.randint(0, 1)])\n",
    "    \n",
    "    # splitter\n",
    "    splitter = ['best', 'random']\n",
    "    genome.append(splitter[random.randint(0, 1)])\n",
    "    \n",
    "    # max_depth\n",
    "    max_depth = None\n",
    "    if random.uniform(0,1) > 0.5: max_deph = random.randint(1, 20)\n",
    "    genome.append(max_depth)\n",
    "    \n",
    "    # min_samples_split\n",
    "    min_samples_split = 2\n",
    "    if random.uniform(0,1) > 0.5: min_samples_split = random.randint(3, 10)\n",
    "    genome.append(min_samples_split)\n",
    "    \n",
    "    # min_samples_leaf\n",
    "    min_samples_leaf = 2\n",
    "    if random.uniform(0,1) > 0.5: min_samples_leaf = random.randint(2, 10)\n",
    "    genome.append(min_samples_leaf)\n",
    "    \n",
    "    # min_weight_fraction_leaf\n",
    "    min_weight_fraction_leaf = 0.0\n",
    "    if random.uniform(0,1) > 0.5: min_weight_fraction_leaf = random.uniform(0.0, 0.5)\n",
    "    genome.append(min_weight_fraction_leaf)\n",
    "    \n",
    "    # max_features\n",
    "    max_features = ['auto', 'sqrt', 'log2', None]\n",
    "    genome.append(max_features[random.randint(0, 3)])\n",
    "\n",
    "    return icls(genome)"
   ]
  },
  {
   "cell_type": "code",
   "execution_count": 114,
   "metadata": {},
   "outputs": [],
   "source": [
    "# Mutation\n",
    "def mutationDTC(individual):\n",
    "    numberParamer= random.randint(0,len(individual)-1)\n",
    "    if numberParamer==0:    \n",
    "        # criterion\n",
    "        criterion = ['gini', 'entropy']\n",
    "        individual[numberParamer]=criterion[random.randint(0, 1)]\n",
    "    elif numberParamer==1: \n",
    "        # splitter\n",
    "        splitter = ['best', 'random']\n",
    "        individual[numberParamer]=splitter[random.randint(0, 1)]\n",
    "    elif numberParamer==2: \n",
    "        # max_depth\n",
    "        max_depth = None\n",
    "        if random.uniform(0,1) > 0.2: max_deph = random.randint(1, 20)\n",
    "        individual[numberParamer]=max_depth\n",
    "    elif numberParamer==3: \n",
    "        # min_samples_split\n",
    "        min_samples_split = 2\n",
    "        if random.uniform(0,1) > 0.2: min_samples_split = random.randint(3, 10)\n",
    "        individual[numberParamer]=min_samples_split\n",
    "    elif numberParamer==4: \n",
    "        # min_samples_leaf\n",
    "        min_samples_leaf = 2\n",
    "        if random.uniform(0,1) > 0.2: min_samples_leaf = random.randint(2, 10)\n",
    "        individual[numberParamer]=min_samples_leaf\n",
    "    elif numberParamer==5: \n",
    "        # min_weight_fraction_leaf\n",
    "        min_weight_fraction_leaf = 0.0\n",
    "        if random.uniform(0,1) > 0.2: min_weight_fraction_leaf = random.uniform(0.0, 0.5)\n",
    "        individual[numberParamer]=min_weight_fraction_leaf\n",
    "    elif numberParamer==6: \n",
    "        # max_features\n",
    "        max_features = ['auto', 'sqrt', 'log2', None]\n",
    "        individual[numberParamer]=max_features[random.randint(0, 3)]"
   ]
  },
  {
   "cell_type": "code",
   "execution_count": 56,
   "metadata": {},
   "outputs": [],
   "source": [
    "# Fitness function\n",
    "import math\n",
    "from sklearn import metrics\n",
    "from sklearn.model_selection import StratifiedKFold\n",
    "from sklearn.tree import DecisionTreeClassifier\n",
    "\n",
    "def parametersFitnessDTC(y,df,numberOfAtributtes,individual):\n",
    "    split=5\n",
    "    cv = StratifiedKFold(n_splits=split)\n",
    "    mms = MinMaxScaler()\n",
    "    df_norm = mms.fit_transform(df)\n",
    "\n",
    "    estimator = DecisionTreeClassifier(criterion=individual[0], splitter=individual[1], max_depth=individual[2], \n",
    "                                       min_samples_split=individual[3], min_samples_leaf=individual[4], \n",
    "                                       min_weight_fraction_leaf=individual[5], max_features=individual[6])\n",
    "    resultSum = 0\n",
    "    for train, test in cv.split(df_norm, y):\n",
    "        estimator.fit(df_norm[train], y[train])\n",
    "        predicted = estimator.predict(df_norm[test])\n",
    "        expected = y[test]\n",
    "        tn, fp, fn, tp = metrics.confusion_matrix(expected, predicted).ravel()\n",
    "        result = (tp + tn) / (tp + fp + tn + fn) #w oparciu o macierze pomyłek https://www.dataschool.io/simple-guide-to-confusion-matrix-terminology/\n",
    "        resultSum = resultSum + result #zbieramy wyniki z poszczególnych etapów walidacji krzyżowej\n",
    "\n",
    "    return resultSum / split,"
   ]
  },
  {
   "cell_type": "code",
   "execution_count": 32,
   "metadata": {},
   "outputs": [],
   "source": [
    "from deap import base, creator, tools\n",
    "import random\n",
    "from math import sin\n",
    "import matplotlib.pyplot as plt\n",
    "from timeit import default_timer as timer"
   ]
  },
  {
   "cell_type": "code",
   "execution_count": 117,
   "metadata": {},
   "outputs": [],
   "source": [
    "sizePopulation = 100\n",
    "probabilityMutation = 0.2\n",
    "probabilityCrossover = 0.8\n",
    "numberIteration = 100\n",
    "numberElitism = 1"
   ]
  },
  {
   "cell_type": "code",
   "execution_count": 35,
   "metadata": {},
   "outputs": [],
   "source": [
    "def configureDeap(fitness, parameters, mutation,\n",
    "                  selection_param={'function':tools.selTournament, 'tournsize':3},\n",
    "                 mate_params={'function':tools.cxTwoPoint},):\n",
    "    \n",
    "    creator.create('FitnessMax', base.Fitness, weights=(1.0,))\n",
    "    creator.create(\"Individual\", list, fitness=creator.FitnessMax)\n",
    "\n",
    "    toolbox = base.Toolbox() \n",
    "    toolbox.register('individual', parameters, numberOfAtributtes, creator.Individual)\n",
    "    toolbox.register('evaluate', fitness,y,df,numberOfAtributtes)\n",
    "    toolbox.register('population', tools.initRepeat, list, toolbox.individual)\n",
    "    toolbox.register('select', **selection_param)\n",
    "    toolbox.register('mate', **mate_params)\n",
    "    toolbox.register('mutate', mutation)\n",
    "\n",
    "    return toolbox"
   ]
  },
  {
   "cell_type": "code",
   "execution_count": 36,
   "metadata": {},
   "outputs": [],
   "source": [
    "def mutate(toolbox, offspring):\n",
    "    for mutant in offspring:\n",
    "        # mutation\n",
    "        if random.random() < probabilityMutation:\n",
    "            toolbox.mutate(mutant)\n",
    "            del mutant.fitness.values\n",
    "    return offspring"
   ]
  },
  {
   "cell_type": "code",
   "execution_count": 37,
   "metadata": {},
   "outputs": [],
   "source": [
    "def setIndividualFitnessValue(individuals, fitnesses):\n",
    "    for ind, fit in zip(individuals, fitnesses):\n",
    "        ind.fitness.value = [fit]\n",
    "    return individuals"
   ]
  },
  {
   "cell_type": "code",
   "execution_count": 38,
   "metadata": {},
   "outputs": [],
   "source": [
    "def initPopulation(toolbox):\n",
    "    population = toolbox.population(n=100)\n",
    "    fitnesses = list(map(toolbox.evaluate, population))\n",
    "    population = setIndividualFitnessValue(population, fitnesses)\n",
    "    return population"
   ]
  },
  {
   "cell_type": "code",
   "execution_count": 39,
   "metadata": {},
   "outputs": [],
   "source": [
    "def crossover(toolbox, offspring):\n",
    "    # [::2] - gets only individuals with odd indexes\n",
    "    # [1::2] -  gets only individuals with even indexes\n",
    "    for child1, child2 in zip(offspring[::2], offspring[1::2]):\n",
    "        # crossover\n",
    "        if random.random() < probabilityCrossover:\n",
    "            toolbox.mate(child1, child2)\n",
    "            del child1.fitness.values\n",
    "            del child2.fitness.values\n",
    "    return offspring"
   ]
  },
  {
   "cell_type": "code",
   "execution_count": 40,
   "metadata": {},
   "outputs": [],
   "source": [
    "def evaluate(toolbox, offspring, verbose=0):\n",
    "    # evaluate new individuals\n",
    "    new_individuals = [ind for ind in offspring if not ind.fitness.valid]\n",
    "    new_fitnesses = map(toolbox.evaluate, new_individuals)\n",
    "    for ind, fit in zip(new_individuals, new_fitnesses):\n",
    "        ind.fitness.values = fit\n",
    "    \n",
    "    if verbose>3:\n",
    "        print('Ewaluated %i individuals'%len(new_individuals))\n",
    "    return offspring"
   ]
  },
  {
   "cell_type": "code",
   "execution_count": 41,
   "metadata": {},
   "outputs": [],
   "source": [
    "def getBestsForElitism(population):\n",
    "    listElitism = []\n",
    "    for x in range(0, numberElitism):\n",
    "        listElitism.append(tools.selBest(population, 1)[0])\n",
    "    return listElitism"
   ]
  },
  {
   "cell_type": "code",
   "execution_count": 42,
   "metadata": {},
   "outputs": [],
   "source": [
    "def calculateStatistics(population,verbose=0):\n",
    "    fits = [ind.fitness.values[0] for ind in population]\n",
    "    length = len(population)\n",
    "    mean = sum(fits)/length\n",
    "    sum2 = sum(x*x for x in fits)\n",
    "    std = abs(sum2/length-mean **2)**0.5\n",
    "    if verbose>2:\n",
    "        print(\"  Min %s\" % min(fits))\n",
    "        print(\"  Max %s\" % max(fits))\n",
    "        print(\"  Avg %s\" % mean)\n",
    "        print(\"  Std %s\" % std)\n",
    "    return (mean, std)"
   ]
  },
  {
   "cell_type": "code",
   "execution_count": 43,
   "metadata": {},
   "outputs": [],
   "source": [
    "def pickBestIndividual(population, verbose=0):\n",
    "    best_ind = tools.selBest(population, 1)[0]\n",
    "    if verbose>1:\n",
    "        print(\"Best individual is %s, %s\" % (best_ind, best_ind.fitness.values))\n",
    "    return best_ind"
   ]
  },
  {
   "cell_type": "code",
   "execution_count": 44,
   "metadata": {},
   "outputs": [],
   "source": [
    "def plotSimple(y_vals=[], label_y='y', label_x='x', title='plot', instance_info='no_info', save_location='./plots/'):\n",
    "    filename = save_location + title+'_'+ instance_info +'.png'\n",
    "    x_vals = [x for x in range(len(y_vals))]\n",
    "    plt.plot(x_vals, y_vals)\n",
    "    plt.title(title)\n",
    "    plt.ylabel(label_y)\n",
    "    plt.xlabel(label_x)\n",
    "#     plt.savefig(filename)\n",
    "    plt.show()\n",
    "    plt.close()"
   ]
  },
  {
   "cell_type": "code",
   "execution_count": 45,
   "metadata": {},
   "outputs": [],
   "source": [
    "def plotResults(stats):\n",
    "    plotSimple([best[0].fitness.values[0] for best in stats], 'best', 'epoch', 'fitness(iteration)')\n",
    "    plotSimple([best[1] for best in stats], 'mean', 'epoch', 'mean(iteration)')\n",
    "    plotSimple([best[2] for best in stats], 'std', 'epoch', 'std(iteration)')\n",
    "    plotSimple([best[3] for best in stats], 'duration', 'epoch', 'epoch_duration(iteration)')"
   ]
  },
  {
   "cell_type": "code",
   "execution_count": 46,
   "metadata": {},
   "outputs": [],
   "source": [
    "def startOptimizationLoop(toolbox, population, elitism=False, verbose=0):\n",
    "    stats = []\n",
    "    g = 0\n",
    "    while g < numberIteration:\n",
    "        g = g + 1\n",
    "        if verbose>0:\n",
    "            print('-- Generation %i --' % g)\n",
    "        start = timer()  \n",
    "        offspring = toolbox.select(population, len(population))\n",
    "        offspring = list(map(toolbox.clone, offspring))\n",
    "        \n",
    "        elite = getBestsForElitism(offspring) if elitism else []\n",
    "        \n",
    "        offspring = crossover(toolbox, offspring)\n",
    "        offspring = mutate(toolbox, offspring)\n",
    "        offspring = evaluate(toolbox, offspring)\n",
    "        duration = timer()-start\n",
    "        \n",
    "        population[:] = offspring + elite\n",
    "\n",
    "        mean, std = calculateStatistics(population, verbose)\n",
    "        best_ind = pickBestIndividual(population, verbose)\n",
    "        stats.append((best_ind, mean, std, duration))\n",
    "    \n",
    "    if verbose>-1:\n",
    "        best_overall = pickBestIndividual(population, verbose)\n",
    "        print('Best found individual: (x1,x2) =', best_overall, ', y =', best_overall.fitness.values[0])\n",
    "    return stats"
   ]
  },
  {
   "cell_type": "code",
   "execution_count": 50,
   "metadata": {},
   "outputs": [],
   "source": [
    "def run(fitness, parameters, mutation, selection, mate, elitism, verbose):\n",
    "    toolbox = configureDeap(fitness, parameters, mutation, selection, mate)\n",
    "    population = initPopulation(toolbox)\n",
    "    stats = startOptimizationLoop(toolbox, population, elitism, verbose)\n",
    "    plotResults(stats)"
   ]
  },
  {
   "cell_type": "code",
   "execution_count": 57,
   "metadata": {},
   "outputs": [
    {
     "name": "stderr",
     "output_type": "stream",
     "text": [
      "C:\\Users\\dtms\\anaconda3\\lib\\site-packages\\deap\\creator.py:138: RuntimeWarning: A class named 'FitnessMax' has already been created and it will be overwritten. Consider deleting previous creation of that class or rename it.\n",
      "  warnings.warn(\"A class named '{0}' has already been created and it \"\n",
      "C:\\Users\\dtms\\anaconda3\\lib\\site-packages\\deap\\creator.py:138: RuntimeWarning: A class named 'Individual' has already been created and it will be overwritten. Consider deleting previous creation of that class or rename it.\n",
      "  warnings.warn(\"A class named '{0}' has already been created and it \"\n"
     ]
    },
    {
     "name": "stdout",
     "output_type": "stream",
     "text": [
      "Best found individual: (x1,x2) = ['gini', 'best', None, 7, 8, 0.4532365989224134, None] , y = 0.7958333333333333\n"
     ]
    },
    {
     "data": {
      "image/png": "[encoded data removed]",
      "text/plain": [
       "<Figure size 432x288 with 1 Axes>"
      ]
     },
     "metadata": {
      "needs_background": "light"
     },
     "output_type": "display_data"
    },
    {
     "data": {
      "image/png": "[encoded data removed]",
      "text/plain": [
       "<Figure size 432x288 with 1 Axes>"
      ]
     },
     "metadata": {
      "needs_background": "light"
     },
     "output_type": "display_data"
    },
    {
     "data": {
      "image/png": "[encoded data removed]",
      "text/plain": [
       "<Figure size 432x288 with 1 Axes>"
      ]
     },
     "metadata": {
      "needs_background": "light"
     },
     "output_type": "display_data"
    },
    {
     "data": {
      "image/png": "[encoded data removed]",
      "text/plain": [
       "<Figure size 432x288 with 1 Axes>"
      ]
     },
     "metadata": {
      "needs_background": "light"
     },
     "output_type": "display_data"
    }
   ],
   "source": [
    "# scenario 0 (tournament, cxTwoPoint, with elitism):\n",
    "selection={'function':tools.selTournament, 'tournsize':3} \n",
    "mate={'function':tools.cxTwoPoint}\n",
    "\n",
    "parameters=parametersDTC\n",
    "fitness=parametersFitnessDTC\n",
    "mutation=mutationDTC\n",
    "elitism = False\n",
    "verbose = 0\n",
    "run(fitness, parameters, mutation, selection , mate , elitism, verbose)"
   ]
  },
  {
   "cell_type": "raw",
   "metadata": {},
   "source": [
    "Best found individual: (x1,x2) = ['gini', 'best', None, 7, 8, 0.4532365989224134, None] , y = 0.7958333333333333"
   ]
  },
  {
   "cell_type": "markdown",
   "metadata": {},
   "source": [
    "### II Selekcja cech"
   ]
  },
  {
   "cell_type": "code",
   "execution_count": 85,
   "metadata": {},
   "outputs": [],
   "source": [
    "# Generationg new individual\n",
    "import random\n",
    "def parametersFeaturesDTC(numberFeatures,icls):\n",
    "    genome = list()\n",
    "    \n",
    "    # criterion\n",
    "    criterion = ['gini', 'entropy']\n",
    "    genome.append(criterion[random.randint(0, 1)])\n",
    "    \n",
    "    # splitter\n",
    "    splitter = ['best', 'random']\n",
    "    genome.append(splitter[random.randint(0, 1)])\n",
    "    \n",
    "    # max_depth\n",
    "    max_depth = None\n",
    "    if random.uniform(0,1) > 0.5: max_deph = random.randint(1, 20)\n",
    "    genome.append(max_depth)\n",
    "    \n",
    "    # min_samples_split\n",
    "    min_samples_split = 2\n",
    "    if random.uniform(0,1) > 0.5: min_samples_split = random.randint(3, 10)\n",
    "    genome.append(min_samples_split)\n",
    "    \n",
    "    # min_samples_leaf\n",
    "    min_samples_leaf = 2\n",
    "    if random.uniform(0,1) > 0.5: min_samples_leaf = random.randint(2, 10)\n",
    "    genome.append(min_samples_leaf)\n",
    "    \n",
    "    # min_weight_fraction_leaf\n",
    "    min_weight_fraction_leaf = 0.0\n",
    "    if random.uniform(0,1) > 0.5: min_weight_fraction_leaf = random.uniform(0.0, 0.5)\n",
    "    genome.append(min_weight_fraction_leaf)\n",
    "    \n",
    "    # max_features\n",
    "    max_features = ['auto', 'sqrt', 'log2', None]\n",
    "    genome.append(max_features[random.randint(0, 3)])\n",
    "    \n",
    "    # features\n",
    "    for i in range(0,numberFeatures):\n",
    "        genome.append(random.randint(0, 1))\n",
    "\n",
    "    return icls(genome)"
   ]
  },
  {
   "cell_type": "code",
   "execution_count": 110,
   "metadata": {},
   "outputs": [],
   "source": [
    "# Mutation\n",
    "def mutationFeaturesDTC(individual):\n",
    "    numberParamer= random.randint(0,len(individual)-1)\n",
    "    if numberParamer==0:    \n",
    "        # criterion\n",
    "        criterion = ['gini', 'entropy']\n",
    "        individual[numberParamer]=criterion[random.randint(0, 1)]\n",
    "    elif numberParamer==1: \n",
    "        # splitter\n",
    "        splitter = ['best', 'random']\n",
    "        individual[numberParamer]=splitter[random.randint(0, 1)]\n",
    "    elif numberParamer==2: \n",
    "        # max_depth\n",
    "        max_depth = None\n",
    "        if random.uniform(0,1) > 0.2: max_deph = random.randint(1, 20)\n",
    "        individual[numberParamer]=max_depth\n",
    "    elif numberParamer==3: \n",
    "        # min_samples_split\n",
    "        min_samples_split = 2\n",
    "        if random.uniform(0,1) > 0.2: min_samples_split = random.randint(3, 10)\n",
    "        individual[numberParamer]=min_samples_split\n",
    "    elif numberParamer==4: \n",
    "        # min_samples_leaf\n",
    "        min_samples_leaf = 2\n",
    "        if random.uniform(0,1) > 0.2: min_samples_leaf = random.randint(2, 10)\n",
    "        individual[numberParamer]=min_samples_leaf\n",
    "    elif numberParamer==5: \n",
    "        # min_weight_fraction_leaf\n",
    "        min_weight_fraction_leaf = 0.0\n",
    "        if random.uniform(0,1) > 0.2: min_weight_fraction_leaf = random.uniform(0.0, 0.5)\n",
    "        individual[numberParamer]=min_weight_fraction_leaf\n",
    "    elif numberParamer==6: \n",
    "        # max_features\n",
    "        max_features = ['auto', 'sqrt', 'log2', None]\n",
    "        individual[numberParamer]=max_features[random.randint(0, 3)]\n",
    "    else: #genetyczna selekcja cech\n",
    "        if individual[numberParamer] == 0: \n",
    "            individual[numberParamer] = 1\n",
    "        else:\n",
    "            individual[numberParamer] = 0"
   ]
  },
  {
   "cell_type": "code",
   "execution_count": 118,
   "metadata": {},
   "outputs": [],
   "source": [
    "# Fitness function\n",
    "import math\n",
    "from sklearn import metrics\n",
    "from sklearn.model_selection import StratifiedKFold\n",
    "from sklearn.tree import DecisionTreeClassifier\n",
    "\n",
    "def parametersFitnessFeaturesDTC(y,df,numberOfAtributtes,individual):\n",
    "    split=5\n",
    "    cv = StratifiedKFold(n_splits=split)\n",
    "    \n",
    "    listColumnsToDrop=[] #lista cech do usuniecia\n",
    "    for i in range(numberOfAtributtes,len(individual)):\n",
    "        if individual[i]==0: #gdy atrybut ma zero to usuwamy cechę\n",
    "            listColumnsToDrop.append(i-numberOfAtributtes)\n",
    "\n",
    "    dfSelectedFeatures=df.drop(df.columns[listColumnsToDrop], axis=1, inplace=False)\n",
    "    \n",
    "    mms = MinMaxScaler()\n",
    "    df_norm = mms.fit_transform(dfSelectedFeatures)\n",
    "\n",
    "    estimator = DecisionTreeClassifier(criterion=individual[0], splitter=individual[1], max_depth=individual[2], \n",
    "                                       min_samples_split=individual[3], min_samples_leaf=individual[4], \n",
    "                                       min_weight_fraction_leaf=individual[5], max_features=individual[6])\n",
    "    resultSum = 0\n",
    "    for train, test in cv.split(df_norm, y):\n",
    "        estimator.fit(df_norm[train], y[train])\n",
    "        predicted = estimator.predict(df_norm[test])\n",
    "        expected = y[test]\n",
    "        tn, fp, fn, tp = metrics.confusion_matrix(expected, predicted).ravel()\n",
    "        result = (tp + tn) / (tp + fp + tn + fn) #w oparciu o macierze pomyłek https://www.dataschool.io/simple-guide-to-confusion-matrix-terminology/\n",
    "        resultSum = resultSum + result #zbieramy wyniki z poszczególnych etapów walidacji krzyżowej\n",
    "\n",
    "    return resultSum / split,"
   ]
  },
  {
   "cell_type": "code",
   "execution_count": 119,
   "metadata": {},
   "outputs": [
    {
     "name": "stderr",
     "output_type": "stream",
     "text": [
      "C:\\Users\\dtms\\anaconda3\\lib\\site-packages\\deap\\creator.py:138: RuntimeWarning: A class named 'FitnessMax' has already been created and it will be overwritten. Consider deleting previous creation of that class or rename it.\n",
      "  warnings.warn(\"A class named '{0}' has already been created and it \"\n",
      "C:\\Users\\dtms\\anaconda3\\lib\\site-packages\\deap\\creator.py:138: RuntimeWarning: A class named 'Individual' has already been created and it will be overwritten. Consider deleting previous creation of that class or rename it.\n",
      "  warnings.warn(\"A class named '{0}' has already been created and it \"\n"
     ]
    },
    {
     "name": "stdout",
     "output_type": "stream",
     "text": [
      "Best found individual: (x1,x2) = ['gini', 'best', None, 2, 2, 0.4547083114373403, None, 0, 0, 1, 0, 1, 1, 1, 1, 0, 1, 1, 0, 0, 0, 0, 1, 0, 1, 1, 1, 1, 0, 0, 0, 0, 0, 1, 1, 1, 1, 0, 1, 0, 0, 1, 0, 0, 0, 0, 1, 1, 1, 0, 0, 0] , y = 0.7958333333333333\n"
     ]
    },
    {
     "data": {
      "image/png": "[encoded data removed]",
      "text/plain": [
       "<Figure size 432x288 with 1 Axes>"
      ]
     },
     "metadata": {
      "needs_background": "light"
     },
     "output_type": "display_data"
    },
    {
     "data": {
      "image/png": "[encoded data removed]",
      "text/plain": [
       "<Figure size 432x288 with 1 Axes>"
      ]
     },
     "metadata": {
      "needs_background": "light"
     },
     "output_type": "display_data"
    },
    {
     "data": {
      "image/png": "[encoded data removed]",
      "text/plain": [
       "<Figure size 432x288 with 1 Axes>"
      ]
     },
     "metadata": {
      "needs_background": "light"
     },
     "output_type": "display_data"
    },
    {
     "data": {
      "image/png": "[encoded data removed]",
      "text/plain": [
       "<Figure size 432x288 with 1 Axes>"
      ]
     },
     "metadata": {
      "needs_background": "light"
     },
     "output_type": "display_data"
    }
   ],
   "source": [
    "# scenario 0 (tournament, cxTwoPoint, with elitism):\n",
    "selection={'function':tools.selTournament, 'tournsize':3} \n",
    "mate={'function':tools.cxTwoPoint}\n",
    "\n",
    "parameters=parametersFeaturesDTC\n",
    "fitness=parametersFitnessFeaturesDTC\n",
    "mutation=mutationFeaturesDTC\n",
    "elitism = False\n",
    "verbose = 7\n",
    "run(fitness, parameters, mutation, selection , mate , elitism, verbose)"
   ]
  },
  {
   "cell_type": "raw",
   "metadata": {},
   "source": [
    "Best found individual: (x1,x2) = ['gini', 'best', None, 2, 2, 0.4547083114373403, None, 0, 0, 1, 0, 1, 1, 1, 1, 0, 1, 1, 0, 0, 0, 0, 1, 0, 1, 1, 1, 1, 0, 0, 0, 0, 0, 1, 1, 1, 1, 0, 1, 0, 0, 1, 0, 0, 0, 0, 1, 1, 1, 0, 0, 0] , y = 0.7958333333333333"
   ]
  },
  {
   "cell_type": "code",
   "execution_count": null,
   "metadata": {},
   "outputs": [],
   "source": []
  }
 ],
 "metadata": {
  "kernelspec": {
   "display_name": "Python 3",
   "language": "python",
   "name": "python3"
  },
  "language_info": {
   "codemirror_mode": {
    "name": "ipython",
    "version": 3
   },
   "file_extension": ".py",
   "mimetype": "text/x-python",
   "name": "python",
   "nbconvert_exporter": "python",
   "pygments_lexer": "ipython3",
   "version": "3.8.5"
  }
 },
 "nbformat": 4,
 "nbformat_minor": 4
}
